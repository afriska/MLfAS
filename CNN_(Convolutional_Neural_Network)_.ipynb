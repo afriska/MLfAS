{
  "nbformat": 4,
  "nbformat_minor": 0,
  "metadata": {
    "colab": {
      "provenance": []
    },
    "kernelspec": {
      "name": "python3",
      "display_name": "Python 3"
    },
    "language_info": {
      "name": "python"
    }
  },
  "cells": [
    {
      "cell_type": "markdown",
      "source": [
        "Convolutional neural network mengguakan \"kernel filter\", di mana setiap node melakukan konvolusi seperti filter.\n",
        "\n",
        "Kernel filter ini juga dijelaskan sebagai \"receptive field\" dari ukuran tertentu. sebuah output dihasilkan dari setiap posisi receptive field. kemudian posisi digeser oleh jarak yang disebut \"stride\", dan menghasilkan output baru, begitu seterusnya.\n",
        "\n",
        "Convolutional neural network memiliki keunggulan, yaitu jaringan menjadi kurang tergantung pada lokasi yang tepat dari sinyal untu mendeteksi atau mengenali pola."
      ],
      "metadata": {
        "id": "eMa4Wm_RF1Wy"
      }
    },
    {
      "cell_type": "code",
      "source": [
        "import numpy\n",
        "import matplotlib.pyplot as plt\n",
        "import torch\n",
        "import torchvision\n",
        "import torch.nn.functional as F\n",
        "import torch.nn as nn\n",
        "import time\n",
        "\n",
        "device='cpu'\n",
        "#device='cuda'"
      ],
      "metadata": {
        "id": "lpFPf7mUI-Oy"
      },
      "execution_count": null,
      "outputs": []
    },
    {
      "cell_type": "code",
      "source": [
        "# define baseline model\n",
        "class ConvNet(nn.Module):\n",
        "    def __init__(self):\n",
        "        super(ConvNet, self).__init__()\n",
        "        self.conv1 = nn.Conv2d(1, 10, kernel_size=5)\n",
        "        self.conv2 = nn.Conv2d(10, 20, kernel_size=5)\n",
        "        self.fc1 = nn.Linear(20, 10)\n",
        "\n",
        "    def forward(self, x):\n",
        "        #print(\"x_input.shape=\", x.shape)\n",
        "        x = F.relu(F.max_pool2d(self.conv1(x), 4))\n",
        "        x = F.relu(F.max_pool2d(self.conv2(x), 2))\n",
        "        #print(\"x.shape=\", x.shape)\n",
        "        x = x.view(-1, 20) #80 for pool: 2,4; ((((28-(5-1))/2-(5-1))/4)**2)*20\n",
        "        #20 for pool: 4,2: ((((28-(5-1))/4-(5-1))/2)**2)*20\n",
        "        x = F.relu(self.fc1(x)) #10 outputs, 1 for each class.\n",
        "        return x #F.log_softmax(x)"
      ],
      "metadata": {
        "id": "lQJL8S72JKoi"
      },
      "execution_count": null,
      "outputs": []
    },
    {
      "cell_type": "code",
      "source": [
        "batch_size_train = 100\n",
        "batch_size_test = 10\n",
        "num_classes = 10"
      ],
      "metadata": {
        "id": "t6lWbpHaJO7e"
      },
      "execution_count": null,
      "outputs": []
    },
    {
      "cell_type": "code",
      "source": [
        "train_loader = torch.utils.data.DataLoader(\n",
        "  torchvision.datasets.MNIST('~/Downloads/MNISTfiles/', train=True, download=True,\n",
        "                             transform=torchvision.transforms.Compose([\n",
        "                               torchvision.transforms.ToTensor(),\n",
        "                               torchvision.transforms.Normalize(\n",
        "                                 (0.1307,), (0.3081,))\n",
        "                             ])),\n",
        "  batch_size=batch_size_train, shuffle=False)\n",
        "\n",
        "#the Normalize numbers are mean and standard deviation.\n",
        "test_loader = torch.utils.data.DataLoader(\n",
        "  torchvision.datasets.MNIST('~/Downloads/MNISTfiles/', train=False, download=True,\n",
        "                             transform=torchvision.transforms.Compose([\n",
        "                               torchvision.transforms.ToTensor(),\n",
        "                               torchvision.transforms.Normalize(\n",
        "                                 (0.1307,), (0.3081,))\n",
        "                             ])),\n",
        "  batch_size=batch_size_test, shuffle=True)"
      ],
      "metadata": {
        "colab": {
          "base_uri": "https://localhost:8080/"
        },
        "id": "qYcoEr9eJR6v",
        "outputId": "b7ec934a-15da-428d-832a-a801f5031fb1"
      },
      "execution_count": null,
      "outputs": [
        {
          "output_type": "stream",
          "name": "stdout",
          "text": [
            "Downloading http://yann.lecun.com/exdb/mnist/train-images-idx3-ubyte.gz\n",
            "Downloading http://yann.lecun.com/exdb/mnist/train-images-idx3-ubyte.gz to /root/Downloads/MNISTfiles/MNIST/raw/train-images-idx3-ubyte.gz\n"
          ]
        },
        {
          "output_type": "stream",
          "name": "stderr",
          "text": [
            "100%|██████████| 9912422/9912422 [00:00<00:00, 67303364.62it/s]\n"
          ]
        },
        {
          "output_type": "stream",
          "name": "stdout",
          "text": [
            "Extracting /root/Downloads/MNISTfiles/MNIST/raw/train-images-idx3-ubyte.gz to /root/Downloads/MNISTfiles/MNIST/raw\n",
            "\n",
            "Downloading http://yann.lecun.com/exdb/mnist/train-labels-idx1-ubyte.gz\n",
            "Downloading http://yann.lecun.com/exdb/mnist/train-labels-idx1-ubyte.gz to /root/Downloads/MNISTfiles/MNIST/raw/train-labels-idx1-ubyte.gz\n"
          ]
        },
        {
          "output_type": "stream",
          "name": "stderr",
          "text": [
            "100%|██████████| 28881/28881 [00:00<00:00, 91079469.04it/s]\n"
          ]
        },
        {
          "output_type": "stream",
          "name": "stdout",
          "text": [
            "Extracting /root/Downloads/MNISTfiles/MNIST/raw/train-labels-idx1-ubyte.gz to /root/Downloads/MNISTfiles/MNIST/raw\n",
            "\n",
            "Downloading http://yann.lecun.com/exdb/mnist/t10k-images-idx3-ubyte.gz\n",
            "Downloading http://yann.lecun.com/exdb/mnist/t10k-images-idx3-ubyte.gz to /root/Downloads/MNISTfiles/MNIST/raw/t10k-images-idx3-ubyte.gz\n"
          ]
        },
        {
          "output_type": "stream",
          "name": "stderr",
          "text": [
            "100%|██████████| 1648877/1648877 [00:00<00:00, 23462628.82it/s]\n"
          ]
        },
        {
          "output_type": "stream",
          "name": "stdout",
          "text": [
            "Extracting /root/Downloads/MNISTfiles/MNIST/raw/t10k-images-idx3-ubyte.gz to /root/Downloads/MNISTfiles/MNIST/raw\n",
            "\n",
            "Downloading http://yann.lecun.com/exdb/mnist/t10k-labels-idx1-ubyte.gz\n",
            "Downloading http://yann.lecun.com/exdb/mnist/t10k-labels-idx1-ubyte.gz to /root/Downloads/MNISTfiles/MNIST/raw/t10k-labels-idx1-ubyte.gz\n"
          ]
        },
        {
          "output_type": "stream",
          "name": "stderr",
          "text": [
            "100%|██████████| 4542/4542 [00:00<00:00, 14195625.01it/s]\n"
          ]
        },
        {
          "output_type": "stream",
          "name": "stdout",
          "text": [
            "Extracting /root/Downloads/MNISTfiles/MNIST/raw/t10k-labels-idx1-ubyte.gz to /root/Downloads/MNISTfiles/MNIST/raw\n",
            "\n"
          ]
        }
      ]
    },
    {
      "cell_type": "code",
      "source": [
        "examples = enumerate(train_loader)\n",
        "# Plot ad hoc mnist instances\n",
        "\n",
        "# load (downloaded if needed) the MNIST dataset\n",
        "#(X_train, y_train), (X_test, y_test) = mnist.load_data()\n",
        "#one batch of 100 images:\n",
        "batch_idx, (X_train, y_train) = next(examples)\n",
        "print(\"batch_idx=\", batch_idx, \"X_train.shape=\", X_train.shape, \"y_train.shape=\", y_train.shape, \"y_train=\", y_train)\n",
        "examples = enumerate(test_loader)\n",
        "#one batch of 100 images:\n",
        "batch_idx, (X_test, y_test) = next(examples)"
      ],
      "metadata": {
        "colab": {
          "base_uri": "https://localhost:8080/"
        },
        "id": "rg5FMsIxJWbk",
        "outputId": "68ae0e3a-f138-4ddc-f3fb-e9806b85a3e8"
      },
      "execution_count": null,
      "outputs": [
        {
          "output_type": "stream",
          "name": "stdout",
          "text": [
            "batch_idx= 0 X_train.shape= torch.Size([100, 1, 28, 28]) y_train.shape= torch.Size([100]) y_train= tensor([5, 0, 4, 1, 9, 2, 1, 3, 1, 4, 3, 5, 3, 6, 1, 7, 2, 8, 6, 9, 4, 0, 9, 1,\n",
            "        1, 2, 4, 3, 2, 7, 3, 8, 6, 9, 0, 5, 6, 0, 7, 6, 1, 8, 7, 9, 3, 9, 8, 5,\n",
            "        9, 3, 3, 0, 7, 4, 9, 8, 0, 9, 4, 1, 4, 4, 6, 0, 4, 5, 6, 1, 0, 0, 1, 7,\n",
            "        1, 6, 3, 0, 2, 1, 1, 7, 9, 0, 2, 6, 7, 8, 3, 9, 0, 4, 6, 7, 4, 6, 8, 0,\n",
            "        7, 8, 3, 1])\n"
          ]
        }
      ]
    },
    {
      "cell_type": "code",
      "source": [
        "# plot 4 images as gray scale\n",
        "plt.figure(figsize=(10,6))\n",
        "plt.subplot(221)\n",
        "plt.title(\"Some Images of the Trainigs Set\")\n",
        "plt.imshow(X_train[0,0], cmap=plt.get_cmap('gray'))\n",
        "plt.subplot(222)\n",
        "plt.imshow(X_train[1,0], cmap=plt.get_cmap('gray'))\n",
        "plt.subplot(223)\n",
        "plt.imshow(X_train[2,0], cmap=plt.get_cmap('gray'))\n",
        "plt.subplot(224)\n",
        "plt.imshow(X_train[3,0], cmap=plt.get_cmap('gray'))\n",
        "# show the plot\n",
        "\n",
        "\n",
        "X_testunflat=X_test.clone() #keep original for imshow later\n",
        "# flatten 28*28 images to a 784 vector for each image\n",
        "num_pixels = X_train.shape[2] * X_train.shape[3]"
      ],
      "metadata": {
        "colab": {
          "base_uri": "https://localhost:8080/",
          "height": 505
        },
        "id": "mPbZzn49JbEU",
        "outputId": "df9d4f2f-61cc-4812-f509-dd79d0d1d437"
      },
      "execution_count": null,
      "outputs": [
        {
          "output_type": "display_data",
          "data": {
            "text/plain": [
              "<Figure size 1000x600 with 4 Axes>"
            ],
            "image/png": "[encoded data removed]"
          },
          "metadata": {}
        }
      ]
    },
    {
      "cell_type": "code",
      "source": [
        "# build the model\n",
        "print(\"Generate Model:\")\n",
        "model = ConvNet()#.to('cpu')\n",
        "\n",
        "loss_fn = nn.CrossEntropyLoss()\n",
        "#learning_rate = 1e-4\n",
        "optimizer = torch.optim.Adam(model.parameters())#, lr=learning_rate)\n",
        "\n",
        "try:\n",
        "    checkpoint = torch.load(\"mnistexample_pytorch_convnet2_weights.torch\",map_location='cpu')\n",
        "    model.load_state_dict(checkpoint['model_state_dict'])\n",
        "    #optimizer.load_state_dict(checkpoint['optimizer_state_dict'])\n",
        "    optimizer.load_state_dict(checkpoint['optimizer_state_dict'])\n",
        "    print(\"Read weights from mnistexample_pytorch_convnet2_weights.torch\")\n",
        "except IOError:\n",
        "    print(\"fresh start\")"
      ],
      "metadata": {
        "colab": {
          "base_uri": "https://localhost:8080/"
        },
        "id": "5qDNwmgzJf_p",
        "outputId": "f73bd23c-f78c-43c0-adc3-547d5cab863e"
      },
      "execution_count": null,
      "outputs": [
        {
          "output_type": "stream",
          "name": "stdout",
          "text": [
            "Generate Model:\n",
            "fresh start\n"
          ]
        }
      ]
    },
    {
      "cell_type": "code",
      "source": [
        "# Fit the model\n",
        "X_train=X_train.to(device)\n",
        "y_train=y_train.to(device)\n",
        "starttime=time.time()\n",
        "for epoch in range(1000):\n",
        "    Ypred=model(X_train)\n",
        "    loss=loss_fn(Ypred, y_train)\n",
        "    if epoch%2==0:\n",
        "        print(epoch, loss.item())\n",
        "    optimizer.zero_grad()\n",
        "    loss.backward()\n",
        "    optimizer.step()\n",
        "endtime=time.time()\n",
        "print(\"Duration of optimization:\", endtime-starttime)\n",
        "\n",
        "#model.fit(X_train, y_train, validation_data=(X_test, y_test), epochs=2, batch_size=200, verbose=2)\n",
        "# Final evaluation of the model\n",
        "Ypred=model(X_test)\n",
        "loss=loss_fn(Ypred, y_test)\n",
        "#scores = model.forward(X_test, y_test, verbose=0)\n",
        "print(\"Loss on the test set:\", loss)"
      ],
      "metadata": {
        "colab": {
          "base_uri": "https://localhost:8080/"
        },
        "id": "_2q7mjGoJoJd",
        "outputId": "9e1397c2-cb33-4e7e-ded8-398f8fc2d584"
      },
      "execution_count": null,
      "outputs": [
        {
          "output_type": "stream",
          "name": "stdout",
          "text": [
            "0 2.3354806900024414\n",
            "2 2.2612524032592773\n",
            "4 2.217137336730957\n",
            "6 2.174515724182129\n",
            "8 2.132033586502075\n",
            "10 2.089646577835083\n",
            "12 2.0452258586883545\n",
            "14 2.0002641677856445\n",
            "16 1.9533166885375977\n",
            "18 1.9035965204238892\n",
            "20 1.8532094955444336\n",
            "22 1.8031162023544312\n",
            "24 1.7528632879257202\n",
            "26 1.70338773727417\n",
            "28 1.6548354625701904\n",
            "30 1.6074299812316895\n",
            "32 1.5617660284042358\n",
            "34 1.5178632736206055\n",
            "36 1.4757180213928223\n",
            "38 1.4351726770401\n",
            "40 1.3964039087295532\n",
            "42 1.3591822385787964\n",
            "44 1.3240824937820435\n",
            "46 1.2908337116241455\n",
            "48 1.259634256362915\n",
            "50 1.2301219701766968\n",
            "52 1.202316403388977\n",
            "54 1.1760611534118652\n",
            "56 1.1516146659851074\n",
            "58 1.129160761833191\n",
            "60 1.1079972982406616\n",
            "62 1.088294506072998\n",
            "64 1.0700035095214844\n",
            "66 1.0530879497528076\n",
            "68 1.0372343063354492\n",
            "70 1.0223567485809326\n",
            "72 1.00874662399292\n",
            "74 0.9960635304450989\n",
            "76 0.9841591715812683\n",
            "78 0.9730338454246521\n",
            "80 0.9627302289009094\n",
            "82 0.9530075192451477\n",
            "84 0.9441272616386414\n",
            "86 0.9359073042869568\n",
            "88 0.9284416437149048\n",
            "90 0.9215888977050781\n",
            "92 0.9154728651046753\n",
            "94 0.9097870588302612\n",
            "96 0.904574453830719\n",
            "98 0.8999971747398376\n",
            "100 0.8958020806312561\n",
            "102 0.8920324444770813\n",
            "104 0.8886058926582336\n",
            "106 0.885628879070282\n",
            "108 0.8829437494277954\n",
            "110 0.8805693984031677\n",
            "112 0.8785014152526855\n",
            "114 0.8765267729759216\n",
            "116 0.8748732209205627\n",
            "118 0.8733519911766052\n",
            "120 0.8718798160552979\n",
            "122 0.8705670833587646\n",
            "124 0.8694028258323669\n",
            "126 0.8683621883392334\n",
            "128 0.8673332929611206\n",
            "130 0.8664215207099915\n",
            "132 0.8656136989593506\n",
            "134 0.8648280501365662\n",
            "136 0.8642098903656006\n",
            "138 0.8636449575424194\n",
            "140 0.8631354570388794\n",
            "142 0.8624449372291565\n",
            "144 0.8620575666427612\n",
            "146 0.8615565299987793\n",
            "148 0.8611017465591431\n",
            "150 0.8607479929924011\n",
            "152 0.8603829741477966\n",
            "154 0.8601024150848389\n",
            "156 0.8597605228424072\n",
            "158 0.8594851493835449\n",
            "160 0.8592790961265564\n",
            "162 0.8590685129165649\n",
            "164 0.8591946363449097\n",
            "166 0.8591175675392151\n",
            "168 0.8586847186088562\n",
            "170 0.858265221118927\n",
            "172 0.8580926656723022\n",
            "174 0.8577899932861328\n",
            "176 0.8576607704162598\n",
            "178 0.8575181365013123\n",
            "180 0.8573310971260071\n",
            "182 0.8574016690254211\n",
            "184 0.857420027256012\n",
            "186 0.8574472069740295\n",
            "188 0.8573259711265564\n",
            "190 0.8570482134819031\n",
            "192 0.8568684458732605\n",
            "194 0.8565619587898254\n",
            "196 0.8565264344215393\n",
            "198 0.8562635183334351\n",
            "200 0.8561307787895203\n",
            "202 0.8560177087783813\n",
            "204 0.8558574914932251\n",
            "206 0.8559669256210327\n",
            "208 0.8558370471000671\n",
            "210 0.8557700514793396\n",
            "212 0.8556256294250488\n",
            "214 0.8555151224136353\n",
            "216 0.855400562286377\n",
            "218 0.8554242849349976\n",
            "220 0.8552356958389282\n",
            "222 0.8552557229995728\n",
            "224 0.8551041483879089\n",
            "226 0.855337381362915\n",
            "228 0.855276346206665\n",
            "230 0.8555235266685486\n",
            "232 0.8555455207824707\n",
            "234 0.8554244041442871\n",
            "236 0.8552185893058777\n",
            "238 0.854990541934967\n",
            "240 0.8549420237541199\n",
            "242 0.8547050952911377\n",
            "244 0.8546860218048096\n",
            "246 0.8545758128166199\n",
            "248 0.854519248008728\n",
            "250 0.8545014262199402\n",
            "252 0.8546005487442017\n",
            "254 0.8546611070632935\n",
            "256 0.8545881509780884\n",
            "258 0.8544730544090271\n",
            "260 0.8543357253074646\n",
            "262 0.854214608669281\n",
            "264 0.8541422486305237\n",
            "266 0.8542430400848389\n",
            "268 0.8541622757911682\n",
            "270 0.8540977239608765\n",
            "272 0.8541101813316345\n",
            "274 0.8540753126144409\n",
            "276 0.8540551066398621\n",
            "278 0.8540092706680298\n",
            "280 0.8539441823959351\n",
            "282 0.8538667559623718\n",
            "284 0.853843629360199\n",
            "286 0.8538444638252258\n",
            "288 0.8538010120391846\n",
            "290 0.8537883162498474\n",
            "292 0.853807806968689\n",
            "294 0.8538045287132263\n",
            "296 0.8538332581520081\n",
            "298 0.8538237810134888\n",
            "300 0.8537794351577759\n",
            "302 0.8537105321884155\n",
            "304 0.8536356091499329\n",
            "306 0.853759229183197\n",
            "308 0.8536385297775269\n",
            "310 0.8536369800567627\n",
            "312 0.8536422848701477\n",
            "314 0.853617787361145\n",
            "316 0.8535744547843933\n",
            "318 0.853516697883606\n",
            "320 0.8534607887268066\n",
            "322 0.8534311652183533\n",
            "324 0.8534152507781982\n",
            "326 0.8533915877342224\n",
            "328 0.8533903360366821\n",
            "330 0.8533496260643005\n",
            "332 0.8533328771591187\n",
            "334 0.8533200025558472\n",
            "336 0.8533080220222473\n",
            "338 0.8532944321632385\n",
            "340 0.853273332118988\n",
            "342 0.8532512187957764\n",
            "344 0.8532387018203735\n",
            "346 0.8532169461250305\n",
            "348 0.8532454967498779\n",
            "350 0.8532367944717407\n",
            "352 0.8532220721244812\n",
            "354 0.8531971573829651\n",
            "356 0.8531733751296997\n",
            "358 0.853163480758667\n",
            "360 0.8531620502471924\n",
            "362 0.8531485199928284\n",
            "364 0.8531245589256287\n",
            "366 0.8531324863433838\n",
            "368 0.8530856966972351\n",
            "370 0.8531145453453064\n",
            "372 0.8530970215797424\n",
            "374 0.8531027436256409\n",
            "376 0.8530970215797424\n",
            "378 0.8530830144882202\n",
            "380 0.8530616760253906\n",
            "382 0.8530347347259521\n",
            "384 0.8530155420303345\n",
            "386 0.852985680103302\n",
            "388 0.8529859185218811\n",
            "390 0.8529922366142273\n",
            "392 0.8530071377754211\n",
            "394 0.8529995679855347\n",
            "396 0.8529701232910156\n",
            "398 0.8529407978057861\n",
            "400 0.8529096245765686\n",
            "402 0.8528991937637329\n",
            "404 0.8529101014137268\n",
            "406 0.8529106974601746\n",
            "408 0.8528980016708374\n",
            "410 0.8528890013694763\n",
            "412 0.8528592586517334\n",
            "414 0.8528597354888916\n",
            "416 0.8528487682342529\n",
            "418 0.8528441786766052\n",
            "420 0.8528327941894531\n",
            "422 0.8528159260749817\n",
            "424 0.8528006672859192\n",
            "426 0.8527968525886536\n",
            "428 0.8527962565422058\n",
            "430 0.8527954816818237\n",
            "432 0.8527922630310059\n",
            "434 0.852796196937561\n",
            "436 0.852856457233429\n",
            "438 0.8528333902359009\n",
            "440 0.8528767228126526\n",
            "442 0.8529078960418701\n",
            "444 0.8529143333435059\n",
            "446 0.8528962731361389\n",
            "448 0.8528603911399841\n",
            "450 0.8528215885162354\n",
            "452 0.8527714610099792\n",
            "454 0.8527339100837708\n",
            "456 0.8527252078056335\n",
            "458 0.8526970744132996\n",
            "460 0.8527023196220398\n",
            "462 0.8527072072029114\n",
            "464 0.8527060747146606\n",
            "466 0.8526985049247742\n",
            "468 0.8526890277862549\n",
            "470 0.8526779413223267\n",
            "472 0.8526648879051208\n",
            "474 0.8526513576507568\n",
            "476 0.8526473045349121\n",
            "478 0.8526750802993774\n",
            "480 0.8527042269706726\n",
            "482 0.8527410626411438\n",
            "484 0.852763831615448\n",
            "486 0.8527694940567017\n",
            "488 0.8527587056159973\n",
            "490 0.8527355194091797\n",
            "492 0.852705180644989\n",
            "494 0.852672815322876\n",
            "496 0.8526429533958435\n",
            "498 0.8526163697242737\n",
            "500 0.8526568412780762\n",
            "502 0.8526322245597839\n",
            "504 0.8526043891906738\n",
            "506 0.852610170841217\n",
            "508 0.8526125550270081\n",
            "510 0.8526106476783752\n",
            "512 0.8526048064231873\n",
            "514 0.8526046872138977\n",
            "516 0.8525856137275696\n",
            "518 0.8525732159614563\n",
            "520 0.8525714874267578\n",
            "522 0.8525493741035461\n",
            "524 0.8525398373603821\n",
            "526 0.8525288105010986\n",
            "528 0.8525170683860779\n",
            "530 0.8525061011314392\n",
            "532 0.8525025844573975\n",
            "534 0.852495014667511\n",
            "536 0.8524922132492065\n",
            "538 0.8524870872497559\n",
            "540 0.8524802327156067\n",
            "542 0.8524941802024841\n",
            "544 0.8524730801582336\n",
            "546 0.8524984121322632\n",
            "548 0.8524894714355469\n",
            "550 0.8524942994117737\n",
            "552 0.852499783039093\n",
            "554 0.8524959683418274\n",
            "556 0.852504551410675\n",
            "558 0.8525006175041199\n",
            "560 0.8525071740150452\n",
            "562 0.8525177836418152\n",
            "564 0.8525087237358093\n",
            "566 0.852501630783081\n",
            "568 0.8524910807609558\n",
            "570 0.8524783849716187\n",
            "572 0.8524641990661621\n",
            "574 0.8524499535560608\n",
            "576 0.852435827255249\n",
            "578 0.8524295091629028\n",
            "580 0.8524309396743774\n",
            "582 0.8524308800697327\n",
            "584 0.852454662322998\n",
            "586 0.8524523377418518\n",
            "588 0.8524292707443237\n",
            "590 0.8524289727210999\n",
            "592 0.8524272441864014\n",
            "594 0.8524297475814819\n",
            "596 0.8524367809295654\n",
            "598 0.8524409532546997\n",
            "600 0.8524412512779236\n",
            "602 0.8524376749992371\n",
            "604 0.8524303436279297\n",
            "606 0.8524202704429626\n",
            "608 0.8524082899093628\n",
            "610 0.8523956537246704\n",
            "612 0.8523829579353333\n",
            "614 0.8523707389831543\n",
            "616 0.8523954749107361\n",
            "618 0.8523654937744141\n",
            "620 0.8523674607276917\n",
            "622 0.8523703813552856\n",
            "624 0.8523713946342468\n",
            "626 0.8523700833320618\n",
            "628 0.8523669242858887\n",
            "630 0.8523622751235962\n",
            "632 0.8523566722869873\n",
            "634 0.8523641228675842\n",
            "636 0.8523478507995605\n",
            "638 0.8523474931716919\n",
            "640 0.8523817658424377\n",
            "642 0.8523774147033691\n",
            "644 0.8524075150489807\n",
            "646 0.8524121046066284\n",
            "648 0.8524102568626404\n",
            "650 0.8524102568626404\n",
            "652 0.8524068593978882\n",
            "654 0.8524007201194763\n",
            "656 0.8523929119110107\n",
            "658 0.8523839712142944\n",
            "660 0.8523741364479065\n",
            "662 0.8523639440536499\n",
            "664 0.8523538112640381\n",
            "666 0.8523434400558472\n",
            "668 0.8523355722427368\n",
            "670 0.8523302674293518\n",
            "672 0.8523248434066772\n",
            "674 0.8523190021514893\n",
            "676 0.8523126840591431\n",
            "678 0.8523065447807312\n",
            "680 0.8523003458976746\n",
            "682 0.8523173332214355\n",
            "684 0.8523030877113342\n",
            "686 0.8523118495941162\n",
            "688 0.8523175120353699\n",
            "690 0.8523188233375549\n",
            "692 0.8523284792900085\n",
            "694 0.8523123860359192\n",
            "696 0.8523074984550476\n",
            "698 0.8523009419441223\n",
            "700 0.8522951006889343\n",
            "702 0.8522905707359314\n",
            "704 0.852287232875824\n",
            "706 0.8522874712944031\n",
            "708 0.8522903323173523\n",
            "710 0.8522916436195374\n",
            "712 0.8522911071777344\n",
            "714 0.8522886633872986\n",
            "716 0.8522846102714539\n",
            "718 0.8522793054580688\n",
            "720 0.8522769212722778\n",
            "722 0.8522791862487793\n",
            "724 0.8522661328315735\n",
            "726 0.852263867855072\n",
            "728 0.8522668480873108\n",
            "730 0.8522756099700928\n",
            "732 0.8522825837135315\n",
            "734 0.8522863984107971\n",
            "736 0.8522865176200867\n",
            "738 0.852283239364624\n",
            "740 0.8522772192955017\n",
            "742 0.8522692322731018\n",
            "744 0.8522603511810303\n",
            "746 0.8522512316703796\n",
            "748 0.852242648601532\n",
            "750 0.8522344827651978\n",
            "752 0.8522272706031799\n",
            "754 0.8522316813468933\n",
            "756 0.8523218035697937\n",
            "758 0.8523446917533875\n",
            "760 0.8522878289222717\n",
            "762 0.8523065447807312\n",
            "764 0.8523257374763489\n",
            "766 0.8523426651954651\n",
            "768 0.85235595703125\n",
            "770 0.8523643016815186\n",
            "772 0.8523671627044678\n",
            "774 0.8523646593093872\n",
            "776 0.8523581027984619\n",
            "778 0.8523480892181396\n",
            "780 0.852336049079895\n",
            "782 0.8523226976394653\n",
            "784 0.8523091673851013\n",
            "786 0.8522958159446716\n",
            "788 0.8522831797599792\n",
            "790 0.8522711992263794\n",
            "792 0.8522602319717407\n",
            "794 0.8522499799728394\n",
            "796 0.852240800857544\n",
            "798 0.8522325158119202\n",
            "800 0.8522246479988098\n",
            "802 0.8522290587425232\n",
            "804 0.852221667766571\n",
            "806 0.8522288799285889\n",
            "808 0.852235734462738\n",
            "810 0.8522401452064514\n",
            "812 0.8522412776947021\n",
            "814 0.8522393703460693\n",
            "816 0.8522350788116455\n",
            "818 0.8522288799285889\n",
            "820 0.8522217273712158\n",
            "822 0.8522219657897949\n",
            "824 0.8522080183029175\n",
            "826 0.8522030115127563\n",
            "828 0.8521986603736877\n",
            "830 0.8521945476531982\n",
            "832 0.8522123098373413\n",
            "834 0.852202832698822\n",
            "836 0.8522081971168518\n",
            "838 0.8522112369537354\n",
            "840 0.8522117733955383\n",
            "842 0.8522095680236816\n",
            "844 0.8522054553031921\n",
            "846 0.852200448513031\n",
            "848 0.8522146344184875\n",
            "850 0.85221266746521\n",
            "852 0.8522717356681824\n",
            "854 0.8522331118583679\n",
            "856 0.8522384762763977\n",
            "858 0.8522390127182007\n",
            "860 0.8522356152534485\n",
            "862 0.8522295951843262\n",
            "864 0.8522220849990845\n",
            "866 0.8522137999534607\n",
            "868 0.8522054553031921\n",
            "870 0.8521976470947266\n",
            "872 0.8521902561187744\n",
            "874 0.8521834015846252\n",
            "876 0.8521772623062134\n",
            "878 0.8521716594696045\n",
            "880 0.8521664142608643\n",
            "882 0.8521723747253418\n",
            "884 0.8521658182144165\n",
            "886 0.8521652221679688\n",
            "888 0.8521679639816284\n",
            "890 0.8521695733070374\n",
            "892 0.8521697521209717\n",
            "894 0.8521689772605896\n",
            "896 0.8521674275398254\n",
            "898 0.8521652221679688\n",
            "900 0.8521624803543091\n",
            "902 0.8521592617034912\n",
            "904 0.8521581292152405\n",
            "906 0.8521554470062256\n",
            "908 0.8521542549133301\n",
            "910 0.8521522283554077\n",
            "912 0.8521497845649719\n",
            "914 0.8521469235420227\n",
            "916 0.8521437048912048\n",
            "918 0.8521403670310974\n",
            "920 0.8521370887756348\n",
            "922 0.852150559425354\n",
            "924 0.8521350026130676\n",
            "926 0.8521360158920288\n",
            "928 0.8521363139152527\n",
            "930 0.8521358370780945\n",
            "932 0.8521435260772705\n",
            "934 0.8521357178688049\n",
            "936 0.8521372079849243\n",
            "938 0.852139949798584\n",
            "940 0.8521755933761597\n",
            "942 0.8521624803543091\n",
            "944 0.8521853089332581\n",
            "946 0.8522075414657593\n",
            "948 0.8522253632545471\n",
            "950 0.8522360324859619\n",
            "952 0.8522387742996216\n",
            "954 0.8522347807884216\n",
            "956 0.8522259593009949\n",
            "958 0.852214515209198\n",
            "960 0.8522022366523743\n",
            "962 0.8521902561187744\n",
            "964 0.8521794080734253\n",
            "966 0.852169930934906\n",
            "968 0.8521620035171509\n",
            "970 0.8521550893783569\n",
            "972 0.852149248123169\n",
            "974 0.852144181728363\n",
            "976 0.8521397113800049\n",
            "978 0.8521360754966736\n",
            "980 0.852135419845581\n",
            "982 0.8521298766136169\n",
            "984 0.8521274328231812\n",
            "986 0.8521251082420349\n",
            "988 0.8521226644515991\n",
            "990 0.8521203398704529\n",
            "992 0.8521178364753723\n",
            "994 0.8521154522895813\n",
            "996 0.8521183729171753\n",
            "998 0.8521144390106201\n",
            "Duration of optimization: 27.609845638275146\n",
            "Loss on the test set: tensor(0.6510, grad_fn=<NllLossBackward0>)\n"
          ]
        }
      ]
    },
    {
      "cell_type": "code",
      "source": [
        "torch.save({\n",
        "       'model_state_dict': model.state_dict(),\n",
        "       'optimizer_state_dict': optimizer.state_dict()}, \"mnistexample_pytorch_convnet2_weights.torch\")\n",
        "print(\"Wrote to mnistexample_pytorch_convnet2_weights.torch\")\n",
        "\n",
        "plt.figure()\n",
        "plt.imshow(X_testunflat[3,0], cmap=plt.get_cmap('gray'))\n",
        "plt.title(\"A Digit Image to Regognize as a Test (predicted digit in the shell)\")\n",
        "\n",
        "sample=X_test[3,:]\n",
        "sample=sample[None,:,:,:] #add the batch dimension for conv2d input.\n",
        "print(\"sample.shape=\", sample.shape)\n",
        "prediction=torch.argmax(model(sample))\n",
        "print(\"prediction=\", prediction)"
      ],
      "metadata": {
        "colab": {
          "base_uri": "https://localhost:8080/",
          "height": 504
        },
        "id": "NRpBfv43Jynk",
        "outputId": "a606c2b7-2f50-4249-8f70-e3df5b7514b4"
      },
      "execution_count": null,
      "outputs": [
        {
          "output_type": "stream",
          "name": "stdout",
          "text": [
            "Wrote to mnistexample_pytorch_convnet2_weights.torch\n",
            "sample.shape= torch.Size([1, 1, 28, 28])\n",
            "prediction= tensor(6)\n"
          ]
        },
        {
          "output_type": "display_data",
          "data": {
            "text/plain": [
              "<Figure size 640x480 with 1 Axes>"
            ],
            "image/png": "[encoded data removed]"
          },
          "metadata": {}
        }
      ]
    },
    {
      "cell_type": "markdown",
      "source": [
        "**1-D Convolutional Networks for Audio Processing**"
      ],
      "metadata": {
        "id": "4PMnkla1AYc3"
      }
    },
    {
      "cell_type": "code",
      "source": [
        "import numpy as np\n",
        "sig = np.arange(0, 1.1, 0.1)\n",
        "sig"
      ],
      "metadata": {
        "colab": {
          "base_uri": "https://localhost:8080/"
        },
        "id": "Mg35Z8T8AXKI",
        "outputId": "ac44c39a-f3e1-484a-efe7-03ebfda0d5cd"
      },
      "execution_count": null,
      "outputs": [
        {
          "output_type": "execute_result",
          "data": {
            "text/plain": [
              "array([0. , 0.1, 0.2, 0.3, 0.4, 0.5, 0.6, 0.7, 0.8, 0.9, 1. ])"
            ]
          },
          "metadata": {},
          "execution_count": 11
        }
      ]
    },
    {
      "cell_type": "code",
      "source": [
        "import matplotlib.pyplot as plt\n",
        "plt.figure()\n",
        "plt.plot(sig)\n",
        "plt.xlabel('Sample')\n",
        "plt.ylabel('Value')\n",
        "plt.title('An Example Signal')\n",
        "plt.grid()"
      ],
      "metadata": {
        "colab": {
          "base_uri": "https://localhost:8080/",
          "height": 472
        },
        "id": "FO7lyJzWAmKm",
        "outputId": "55810f38-0351-4fa6-b88b-ee8cb7d856d8"
      },
      "execution_count": null,
      "outputs": [
        {
          "output_type": "display_data",
          "data": {
            "text/plain": [
              "<Figure size 640x480 with 1 Axes>"
            ],
            "image/png": "[encoded data removed]"
          },
          "metadata": {}
        }
      ]
    },
    {
      "cell_type": "code",
      "source": [
        "signoise = np.random.rand(20)-0.5+np.hstack([np.zeros(4),sig,np.zeros(5)])\n",
        "plt.figure()\n",
        "plt.plot(signoise)\n",
        "plt.xlabel('Sample')\n",
        "plt.ylabel('Value')\n",
        "plt.title('The Example Signal in Noise')\n",
        "plt.grid()"
      ],
      "metadata": {
        "colab": {
          "base_uri": "https://localhost:8080/",
          "height": 472
        },
        "id": "8CBF37m0An2M",
        "outputId": "c00c3097-de39-4263-de07-27c19d9509b6"
      },
      "execution_count": null,
      "outputs": [
        {
          "output_type": "display_data",
          "data": {
            "text/plain": [
              "<Figure size 640x480 with 1 Axes>"
            ],
            "image/png": "[encoded data removed]"
          },
          "metadata": {}
        }
      ]
    },
    {
      "cell_type": "code",
      "source": [
        "# -*- coding: utf-8 -*-\n",
        "__author__ = 'Gerald Schuller'\n",
        "__copyright__ = 'G.S.'\n",
        "\n",
        "\"\"\"\n",
        "Simple program to use a convolutional neural network to obtain a signal detector like matched filter,  using pytorch.\n",
        "Gerald Schuller, November 2018.\n",
        "\"\"\";\n",
        "# Ported to Jupyter Notebook by Renato Profeta, October 2020"
      ],
      "metadata": {
        "id": "ltypAPTcAsia"
      },
      "execution_count": null,
      "outputs": []
    },
    {
      "cell_type": "code",
      "source": [
        "import torch\n",
        "import torch.nn as nn\n",
        "\n",
        "import numpy as np\n",
        "import matplotlib.pyplot as plt\n",
        "import sys\n",
        "\n",
        "if sys.version_info[0] < 3:\n",
        "   # for Python 2\n",
        "   import cPickle as pickle\n",
        "else:\n",
        "   # for Python 3\n",
        "   import pickle"
      ],
      "metadata": {
        "id": "wbtluIHpAugS"
      },
      "execution_count": null,
      "outputs": []
    },
    {
      "cell_type": "code",
      "source": [
        "# Device configuration\n",
        "#device = torch.device('cuda:0' if torch.cuda.is_available() else 'cpu')\n",
        "\n",
        "def signal2pytorch(x):\n",
        "    #Function to convert a signal vector s, like a mono audio signal, into a 3-d Tensor that conv1d of Pytorch expects,\n",
        "    #https://pytorch.org/docs/stable/nn.html\n",
        "    #conv1d Input: (N,Cin,Lin), Cin: numer of input channels (e.g. for stereo), Lin: length of signal, N: number of Batches (signals)\n",
        "    #Argument x: a 1-d signal as numpy array\n",
        "    #output: 3-d Tensor X for conv1d input.\n",
        "    X = np.expand_dims(x, axis=0)  #add channels dimension (here only 1 channel)\n",
        "    X = np.expand_dims(X, axis=0)  #add batch dimension (here only 1 batch)\n",
        "    X=torch.from_numpy(X)\n",
        "    X=X.type(torch.Tensor)\n",
        "    return X"
      ],
      "metadata": {
        "id": "RYTCuz6WAwaP"
      },
      "execution_count": null,
      "outputs": []
    },
    {
      "cell_type": "code",
      "source": [
        "class ConvNet(nn.Module):\n",
        "    def __init__(self):\n",
        "        super(ConvNet, self).__init__()\n",
        "        self.detector=nn.Sequential(nn.Conv1d(in_channels=1, out_channels=1, kernel_size=11, stride=1, padding=10, bias=False))\n",
        "        #self.detector=nn.Conv1d(1, 1, 8, padding=8, stride=1, bias=False)\n",
        "\n",
        "    def forward(self, x):\n",
        "        out = self.detector(x)\n",
        "        return out"
      ],
      "metadata": {
        "id": "CMG9W81IAxKr"
      },
      "execution_count": null,
      "outputs": []
    },
    {
      "cell_type": "code",
      "source": [
        "#Input signal X, a Ramp function:\n",
        "x= np.hstack((np.zeros(4),np.arange(0,1.1,0.1),np.zeros(5)))\n",
        "print(\"x=\", x)\n",
        "X=signal2pytorch(x)\n",
        "y = np.zeros(30)\n",
        "y[16]=1 #Detecting the signal at its end (for convolution padding='causal'), like a matched filter.\n",
        "print(\"y=\", y)\n",
        "Y=signal2pytorch(y)\n",
        "\n",
        "print(\"Input X[0,0,:]=\", X[0,0,:], \"X.shape=\", X.shape )\n",
        "print(\"Target Y[0,0,:]=\", Y[0,0,:], \"Y.shape=\", Y.shape)\n",
        "\n",
        "print(\"Generate Model:\")\n",
        "#model = generate_model()     # Compile an neural net\n",
        "model = ConvNet()#.to('cpu')\n",
        "print(\"Def. loss function:\")\n",
        "loss_fn = nn.MSELoss(reduction='sum')\n",
        "#learning_rate = 1e-4\n",
        "optimizer = torch.optim.Adam(model.parameters())#, lr=learning_rate)"
      ],
      "metadata": {
        "colab": {
          "base_uri": "https://localhost:8080/"
        },
        "id": "QD6kVznjA2ir",
        "outputId": "49a08944-d1fa-4154-81be-17bd46ab2733"
      },
      "execution_count": null,
      "outputs": [
        {
          "output_type": "stream",
          "name": "stdout",
          "text": [
            "x= [0.  0.  0.  0.  0.  0.1 0.2 0.3 0.4 0.5 0.6 0.7 0.8 0.9 1.  0.  0.  0.\n",
            " 0.  0. ]\n",
            "y= [0. 0. 0. 0. 0. 0. 0. 0. 0. 0. 0. 0. 0. 0. 0. 0. 1. 0. 0. 0. 0. 0. 0. 0.\n",
            " 0. 0. 0. 0. 0. 0.]\n",
            "Input X[0,0,:]= tensor([0.0000, 0.0000, 0.0000, 0.0000, 0.0000, 0.1000, 0.2000, 0.3000, 0.4000,\n",
            "        0.5000, 0.6000, 0.7000, 0.8000, 0.9000, 1.0000, 0.0000, 0.0000, 0.0000,\n",
            "        0.0000, 0.0000]) X.shape= torch.Size([1, 1, 20])\n",
            "Target Y[0,0,:]= tensor([0., 0., 0., 0., 0., 0., 0., 0., 0., 0., 0., 0., 0., 0., 0., 0., 1., 0.,\n",
            "        0., 0., 0., 0., 0., 0., 0., 0., 0., 0., 0., 0.]) Y.shape= torch.Size([1, 1, 30])\n",
            "Generate Model:\n",
            "Def. loss function:\n"
          ]
        }
      ]
    },
    {
      "cell_type": "code",
      "source": [
        "for epoch in range(5000):\n",
        "    Ydet=model(X)\n",
        "    loss=loss_fn(Ydet, Y)\n",
        "    if epoch%100==0:\n",
        "        print(epoch, loss.item())\n",
        "    optimizer.zero_grad()\n",
        "    loss.backward()\n",
        "    optimizer.step()"
      ],
      "metadata": {
        "colab": {
          "base_uri": "https://localhost:8080/"
        },
        "id": "jKNeaCL3A4ba",
        "outputId": "50b712e1-4012-4089-e62a-6e9013b30221"
      },
      "execution_count": null,
      "outputs": [
        {
          "output_type": "stream",
          "name": "stdout",
          "text": [
            "0 1.7714059352874756\n",
            "100 0.8766357898712158\n",
            "200 0.6454259753227234\n",
            "300 0.46990904211997986\n",
            "400 0.346113920211792\n",
            "500 0.2615656852722168\n",
            "600 0.20380796492099762\n",
            "700 0.1631392538547516\n",
            "800 0.13306072354316711\n",
            "900 0.10967712104320526\n",
            "1000 0.09082654863595963\n",
            "1100 0.07534345984458923\n",
            "1200 0.06257066130638123\n",
            "1300 0.05208629369735718\n",
            "1400 0.04357142001390457\n",
            "1500 0.0367521271109581\n",
            "1600 0.03137819841504097\n",
            "1700 0.027218036353588104\n",
            "1800 0.0240585058927536\n",
            "1900 0.021707188338041306\n",
            "2000 0.019994566217064857\n",
            "2100 0.01877504214644432\n",
            "2200 0.017927084118127823\n",
            "2300 0.017352040857076645\n",
            "2400 0.016972146928310394\n",
            "2500 0.01672801561653614\n",
            "2600 0.016575604677200317\n",
            "2700 0.016483282670378685\n",
            "2800 0.016429109498858452\n",
            "2900 0.016398385167121887\n",
            "3000 0.016381539404392242\n",
            "3100 0.01637265272438526\n",
            "3200 0.016368139535188675\n",
            "3300 0.016365937888622284\n",
            "3400 0.01636490784585476\n",
            "3500 0.01636444590985775\n",
            "3600 0.01636425592005253\n",
            "3700 0.016364168375730515\n",
            "3800 0.016364142298698425\n",
            "3900 0.01636413298547268\n",
            "4000 0.01636412739753723\n",
            "4100 0.01636412739753723\n",
            "4200 0.016364125534892082\n",
            "4300 0.01636412739753723\n",
            "4400 0.01636413112282753\n",
            "4500 0.016364121809601784\n",
            "4600 0.016364125534892082\n",
            "4700 0.01636412739753723\n",
            "4800 0.01636412739753723\n",
            "4900 0.01636412926018238\n"
          ]
        }
      ]
    },
    {
      "cell_type": "code",
      "source": [
        "torch.save(model.state_dict(), 'model_detector.torch')\n",
        "Ydet=model(X)\n",
        "Ydet=Ydet.data.numpy()\n",
        "#xnoisy=x+np.random.normal(size=x.shape)*0.1\n",
        "xnoisy=x+np.random.rand(20)-0.5\n",
        "Xnoisy=signal2pytorch(xnoisy)\n",
        "Ydetnoisy=model(Xnoisy)\n",
        "Ydetnoisy=Ydetnoisy.data.numpy()\n",
        "print(\"Predictions= \", Ydet[0,0,:])\n",
        "weights=list(model.parameters())\n",
        "print(\"Pytorch weights=\", weights[0].data.numpy())"
      ],
      "metadata": {
        "colab": {
          "base_uri": "https://localhost:8080/"
        },
        "id": "b2Anh89-A6jL",
        "outputId": "08ee3bf8-0fff-48c8-9838-1eda2c876d75"
      },
      "execution_count": null,
      "outputs": [
        {
          "output_type": "stream",
          "name": "stdout",
          "text": [
            "Predictions=  [ 0.0000000e+00  0.0000000e+00  0.0000000e+00  0.0000000e+00\n",
            "  0.0000000e+00  6.5166629e-03 -7.6918185e-02 -6.1049007e-02\n",
            " -4.5723096e-02 -3.0797865e-02 -1.6138088e-02 -1.6132571e-03\n",
            "  1.2904780e-02  2.7543696e-02  4.2433783e-02 -1.4282644e-02\n",
            "  9.8363417e-01 -1.0308258e-02 -5.2346820e-03 -1.1858378e-03\n",
            "  1.7753623e-03  3.5667068e-03  4.0847026e-03  3.2026947e-03\n",
            "  7.6859904e-04  0.0000000e+00  0.0000000e+00  0.0000000e+00\n",
            "  0.0000000e+00  0.0000000e+00]\n",
            "Pytorch weights= [[[ 7.6859904e-04  2.5109556e-03  1.2099633e-03 -6.9044007e-05\n",
            "   -1.3492969e-03 -2.6540828e-03 -4.0071346e-03 -5.4325797e-03\n",
            "    9.9304014e-01 -8.9951503e-01  6.5166630e-02]]]\n"
          ]
        }
      ]
    },
    {
      "cell_type": "code",
      "source": [
        "print(\"Y=\", Y)\n",
        "plt.figure()\n",
        "plt.plot()\n",
        "plt.plot(Ydet[0,0,:])\n",
        "plt.plot(Ydetnoisy[0,0,:])\n",
        "plt.legend(('For clean input', 'For noisy input'))\n",
        "plt.title('The Conv. Neural Network Output')\n",
        "plt.grid()\n",
        "plt.figure()\n",
        "plt.plot(weights[0].data.numpy()[0,0,:])\n",
        "plt.title('The Pytorch Weights, corr. instead of conv is used!')\n",
        "plt.grid()\n",
        "plt.figure()\n",
        "plt.plot(x)\n",
        "plt.plot(xnoisy)\n",
        "plt.legend(('Clean signal', 'Noisy signal'))\n",
        "plt.title('The Input Signal')\n",
        "plt.grid()"
      ],
      "metadata": {
        "colab": {
          "base_uri": "https://localhost:8080/",
          "height": 1000
        },
        "id": "S9OTIxVgA8ht",
        "outputId": "460aeb69-41a7-4841-f296-645264ee1e7c"
      },
      "execution_count": null,
      "outputs": [
        {
          "output_type": "stream",
          "name": "stdout",
          "text": [
            "Y= tensor([[[0., 0., 0., 0., 0., 0., 0., 0., 0., 0., 0., 0., 0., 0., 0., 0., 1.,\n",
            "          0., 0., 0., 0., 0., 0., 0., 0., 0., 0., 0., 0., 0.]]])\n"
          ]
        },
        {
          "output_type": "display_data",
          "data": {
            "text/plain": [
              "<Figure size 640x480 with 1 Axes>"
            ],
            "image/png": "[encoded data removed]"
          },
          "metadata": {}
        },
        {
          "output_type": "display_data",
          "data": {
            "text/plain": [
              "<Figure size 640x480 with 1 Axes>"
            ],
            "image/png": "[encoded data removed]"
          },
          "metadata": {}
        },
        {
          "output_type": "display_data",
          "data": {
            "text/plain": [
              "<Figure size 640x480 with 1 Axes>"
            ],
            "image/png": "[encoded data removed]"
          },
          "metadata": {}
        }
      ]
    },
    {
      "cell_type": "markdown",
      "source": [
        "**An Audio Predictor**"
      ],
      "metadata": {
        "id": "oCdbBGt2BLJ2"
      }
    },
    {
      "cell_type": "code",
      "source": [
        "import torch\n",
        "import torch.nn as nn\n",
        "\n",
        "import numpy as np\n",
        "import matplotlib.pyplot as plt\n",
        "import sys\n",
        "import librosa\n",
        "\n",
        "if sys.version_info[0] < 3:\n",
        "   # for Python 2\n",
        "   import cPickle as pickle\n",
        "else:\n",
        "   # for Python 3\n",
        "   import pickle\n",
        "\n",
        "L=12 #filter length\n",
        "dilation=1 #Dilation: upsampling the filter impulse response, new filter length: (L-1)*dilation+1+1\n"
      ],
      "metadata": {
        "id": "kD-opxSmBNl9"
      },
      "execution_count": null,
      "outputs": []
    },
    {
      "cell_type": "code",
      "source": [
        "def format_vector2pytorch(vector):\n",
        "    #Function to convert a vector, like a mono audio signal, into a 3-d Tensor X that Keras expects\n",
        "    #Tensor X with shape (batch, signal):\n",
        "    #https://discuss.pytorch.org/t/confused-about-tensor-dimensions-and-batches/4761\n",
        "    X = np.expand_dims(vector, axis=0)  #add batch dimension (here only 1 batch)\n",
        "    X = np.expand_dims(X, axis=0)\n",
        "    X=torch.from_numpy(X)\n",
        "    X=X.type(torch.Tensor)\n",
        "    return X"
      ],
      "metadata": {
        "id": "hZlpeqZiBd0A"
      },
      "execution_count": null,
      "outputs": []
    },
    {
      "cell_type": "code",
      "source": [
        "class ConvNet(nn.Module):\n",
        "    def __init__(self):\n",
        "        super(ConvNet, self).__init__()\n",
        "        # Define the model.\n",
        "        self.layer1=nn.Sequential(nn.Conv1d(in_channels=1, out_channels=1, kernel_size=L, stride=1,\n",
        "                                            dilation=dilation, padding=dilation*(L-1), bias=False))\n",
        "        #https://pytorch.org/docs/stable/nn.html#conv1d\n",
        "        # Generate a convolutional neural network model, 1 layer, no bias, linear activation function\n",
        "        # returns: Trainable object\n",
        "        #concatenate data:\n",
        "        #https://discuss.pytorch.org/t/concatenate-layer-output-with-additional-input-data/20462\n",
        "        #input of layer: x, output of layer: out\n",
        "    def forward(self, x):\n",
        "        out = self.layer1(x)\n",
        "        return out"
      ],
      "metadata": {
        "id": "bUfBut-WBfMy"
      },
      "execution_count": null,
      "outputs": []
    },
    {
      "cell_type": "code",
      "source": [
        "#Example to find prediction coefficients to minimize the mean absolute error using Python Keras\n",
        "#and 1 Convolutional layer as a predictor.\n",
        "\n",
        "import librosa\n",
        "#Input mono audio signal X:\n",
        "audio, samplerate = librosa.load(\"./audio/ACDC - Back In Black Intro.wav\", sr=None, offset=6)\n",
        "#samplerate, audio = wav.read(\"mspeech.wav\")\n",
        "#samplerate, audio = wav.read(\"fspeech.wav\")\n",
        "#samplerate, audio = wav.read(\"WCLMSprederror.wav\")\n",
        "#audio=audio*1.0/2**15 #normalize\n",
        "audio=audio*1.0/np.max(np.abs(audio)) #normalize\n",
        "\n",
        "audiosh=audio[:100000] #shorten the signal for faster optimization,\n",
        "#audiosh=audio[46750:47750]\n",
        "plt.figure()\n",
        "plt.plot(audiosh)\n",
        "plt.title(\"The Audio Signal to Predict\")\n",
        "plt.grid()\n",
        "\n",
        "\n",
        "X=format_vector2pytorch(audiosh[:-((L-1)*dilation+1)])      #remove last samples\n",
        "Y=format_vector2pytorch(audiosh[1:]) #remove first sample, for the signal to predict, 1 sample in the future\n",
        "\n",
        "print(\"Generate Model:\")\n",
        "print(\"Input X.shape=\", X.shape )\n",
        "print(\"Target Y.shape=\", Y.shape)\n",
        "\n",
        "import IPython.display as ipd\n",
        "display(ipd.Audio(audiosh, rate=samplerate));"
      ],
      "metadata": {
        "colab": {
          "base_uri": "https://localhost:8080/",
          "height": 688
        },
        "id": "jLEldBsnBjEI",
        "outputId": "5b48f4e5-a221-41b9-e414-4f19e3c55600"
      },
      "execution_count": null,
      "outputs": [
        {
          "output_type": "stream",
          "name": "stderr",
          "text": [
            "<ipython-input-25-83e916d580aa>:6: UserWarning: PySoundFile failed. Trying audioread instead.\n",
            "  audio, samplerate = librosa.load(\"./audio/ACDC - Back In Black Intro.wav\", sr=None, offset=6)\n",
            "/usr/local/lib/python3.10/dist-packages/librosa/core/audio.py:183: FutureWarning: librosa.core.audio.__audioread_load\n",
            "\tDeprecated as of librosa version 0.10.0.\n",
            "\tIt will be removed in librosa version 1.0.\n",
            "  y, sr_native = __audioread_load(path, offset, duration, dtype)\n"
          ]
        },
        {
          "output_type": "error",
          "ename": "FileNotFoundError",
          "evalue": "[Errno 2] No such file or directory: './audio/ACDC - Back In Black Intro.wav'",
          "traceback": [
            "\u001b[0;31m---------------------------------------------------------------------------\u001b[0m",
            "\u001b[0;31mLibsndfileError\u001b[0m                           Traceback (most recent call last)",
            "\u001b[0;32m/usr/local/lib/python3.10/dist-packages/librosa/core/audio.py\u001b[0m in \u001b[0;36mload\u001b[0;34m(path, sr, mono, offset, duration, dtype, res_type)\u001b[0m\n\u001b[1;32m    174\u001b[0m         \u001b[0;32mtry\u001b[0m\u001b[0;34m:\u001b[0m\u001b[0;34m\u001b[0m\u001b[0;34m\u001b[0m\u001b[0m\n\u001b[0;32m--> 175\u001b[0;31m             \u001b[0my\u001b[0m\u001b[0;34m,\u001b[0m \u001b[0msr_native\u001b[0m \u001b[0;34m=\u001b[0m \u001b[0m__soundfile_load\u001b[0m\u001b[0;34m(\u001b[0m\u001b[0mpath\u001b[0m\u001b[0;34m,\u001b[0m \u001b[0moffset\u001b[0m\u001b[0;34m,\u001b[0m \u001b[0mduration\u001b[0m\u001b[0;34m,\u001b[0m \u001b[0mdtype\u001b[0m\u001b[0;34m)\u001b[0m\u001b[0;34m\u001b[0m\u001b[0;34m\u001b[0m\u001b[0m\n\u001b[0m\u001b[1;32m    176\u001b[0m \u001b[0;34m\u001b[0m\u001b[0m\n",
            "\u001b[0;32m/usr/local/lib/python3.10/dist-packages/librosa/core/audio.py\u001b[0m in \u001b[0;36m__soundfile_load\u001b[0;34m(path, offset, duration, dtype)\u001b[0m\n\u001b[1;32m    207\u001b[0m         \u001b[0;31m# Otherwise, create the soundfile object\u001b[0m\u001b[0;34m\u001b[0m\u001b[0;34m\u001b[0m\u001b[0m\n\u001b[0;32m--> 208\u001b[0;31m         \u001b[0mcontext\u001b[0m \u001b[0;34m=\u001b[0m \u001b[0msf\u001b[0m\u001b[0;34m.\u001b[0m\u001b[0mSoundFile\u001b[0m\u001b[0;34m(\u001b[0m\u001b[0mpath\u001b[0m\u001b[0;34m)\u001b[0m\u001b[0;34m\u001b[0m\u001b[0;34m\u001b[0m\u001b[0m\n\u001b[0m\u001b[1;32m    209\u001b[0m \u001b[0;34m\u001b[0m\u001b[0m\n",
            "\u001b[0;32m/usr/local/lib/python3.10/dist-packages/soundfile.py\u001b[0m in \u001b[0;36m__init__\u001b[0;34m(self, file, mode, samplerate, channels, subtype, endian, format, closefd)\u001b[0m\n\u001b[1;32m    657\u001b[0m                                          format, subtype, endian)\n\u001b[0;32m--> 658\u001b[0;31m         \u001b[0mself\u001b[0m\u001b[0;34m.\u001b[0m\u001b[0m_file\u001b[0m \u001b[0;34m=\u001b[0m \u001b[0mself\u001b[0m\u001b[0;34m.\u001b[0m\u001b[0m_open\u001b[0m\u001b[0;34m(\u001b[0m\u001b[0mfile\u001b[0m\u001b[0;34m,\u001b[0m \u001b[0mmode_int\u001b[0m\u001b[0;34m,\u001b[0m \u001b[0mclosefd\u001b[0m\u001b[0;34m)\u001b[0m\u001b[0;34m\u001b[0m\u001b[0;34m\u001b[0m\u001b[0m\n\u001b[0m\u001b[1;32m    659\u001b[0m         \u001b[0;32mif\u001b[0m \u001b[0mset\u001b[0m\u001b[0;34m(\u001b[0m\u001b[0mmode\u001b[0m\u001b[0;34m)\u001b[0m\u001b[0;34m.\u001b[0m\u001b[0missuperset\u001b[0m\u001b[0;34m(\u001b[0m\u001b[0;34m'r+'\u001b[0m\u001b[0;34m)\u001b[0m \u001b[0;32mand\u001b[0m \u001b[0mself\u001b[0m\u001b[0;34m.\u001b[0m\u001b[0mseekable\u001b[0m\u001b[0;34m(\u001b[0m\u001b[0;34m)\u001b[0m\u001b[0;34m:\u001b[0m\u001b[0;34m\u001b[0m\u001b[0;34m\u001b[0m\u001b[0m\n",
            "\u001b[0;32m/usr/local/lib/python3.10/dist-packages/soundfile.py\u001b[0m in \u001b[0;36m_open\u001b[0;34m(self, file, mode_int, closefd)\u001b[0m\n\u001b[1;32m   1215\u001b[0m             \u001b[0merr\u001b[0m \u001b[0;34m=\u001b[0m \u001b[0m_snd\u001b[0m\u001b[0;34m.\u001b[0m\u001b[0msf_error\u001b[0m\u001b[0;34m(\u001b[0m\u001b[0mfile_ptr\u001b[0m\u001b[0;34m)\u001b[0m\u001b[0;34m\u001b[0m\u001b[0;34m\u001b[0m\u001b[0m\n\u001b[0;32m-> 1216\u001b[0;31m             \u001b[0;32mraise\u001b[0m \u001b[0mLibsndfileError\u001b[0m\u001b[0;34m(\u001b[0m\u001b[0merr\u001b[0m\u001b[0;34m,\u001b[0m \u001b[0mprefix\u001b[0m\u001b[0;34m=\u001b[0m\u001b[0;34m\"Error opening {0!r}: \"\u001b[0m\u001b[0;34m.\u001b[0m\u001b[0mformat\u001b[0m\u001b[0;34m(\u001b[0m\u001b[0mself\u001b[0m\u001b[0;34m.\u001b[0m\u001b[0mname\u001b[0m\u001b[0;34m)\u001b[0m\u001b[0;34m)\u001b[0m\u001b[0;34m\u001b[0m\u001b[0;34m\u001b[0m\u001b[0m\n\u001b[0m\u001b[1;32m   1217\u001b[0m         \u001b[0;32mif\u001b[0m \u001b[0mmode_int\u001b[0m \u001b[0;34m==\u001b[0m \u001b[0m_snd\u001b[0m\u001b[0;34m.\u001b[0m\u001b[0mSFM_WRITE\u001b[0m\u001b[0;34m:\u001b[0m\u001b[0;34m\u001b[0m\u001b[0;34m\u001b[0m\u001b[0m\n",
            "\u001b[0;31mLibsndfileError\u001b[0m: Error opening './audio/ACDC - Back In Black Intro.wav': System error.",
            "\nDuring handling of the above exception, another exception occurred:\n",
            "\u001b[0;31mFileNotFoundError\u001b[0m                         Traceback (most recent call last)",
            "\u001b[0;32m<ipython-input-25-83e916d580aa>\u001b[0m in \u001b[0;36m<cell line: 6>\u001b[0;34m()\u001b[0m\n\u001b[1;32m      4\u001b[0m \u001b[0;32mimport\u001b[0m \u001b[0mlibrosa\u001b[0m\u001b[0;34m\u001b[0m\u001b[0;34m\u001b[0m\u001b[0m\n\u001b[1;32m      5\u001b[0m \u001b[0;31m#Input mono audio signal X:\u001b[0m\u001b[0;34m\u001b[0m\u001b[0;34m\u001b[0m\u001b[0m\n\u001b[0;32m----> 6\u001b[0;31m \u001b[0maudio\u001b[0m\u001b[0;34m,\u001b[0m \u001b[0msamplerate\u001b[0m \u001b[0;34m=\u001b[0m \u001b[0mlibrosa\u001b[0m\u001b[0;34m.\u001b[0m\u001b[0mload\u001b[0m\u001b[0;34m(\u001b[0m\u001b[0;34m\"./audio/ACDC - Back In Black Intro.wav\"\u001b[0m\u001b[0;34m,\u001b[0m \u001b[0msr\u001b[0m\u001b[0;34m=\u001b[0m\u001b[0;32mNone\u001b[0m\u001b[0;34m,\u001b[0m \u001b[0moffset\u001b[0m\u001b[0;34m=\u001b[0m\u001b[0;36m6\u001b[0m\u001b[0;34m)\u001b[0m\u001b[0;34m\u001b[0m\u001b[0;34m\u001b[0m\u001b[0m\n\u001b[0m\u001b[1;32m      7\u001b[0m \u001b[0;31m#samplerate, audio = wav.read(\"mspeech.wav\")\u001b[0m\u001b[0;34m\u001b[0m\u001b[0;34m\u001b[0m\u001b[0m\n\u001b[1;32m      8\u001b[0m \u001b[0;31m#samplerate, audio = wav.read(\"fspeech.wav\")\u001b[0m\u001b[0;34m\u001b[0m\u001b[0;34m\u001b[0m\u001b[0m\n",
            "\u001b[0;32m/usr/local/lib/python3.10/dist-packages/librosa/core/audio.py\u001b[0m in \u001b[0;36mload\u001b[0;34m(path, sr, mono, offset, duration, dtype, res_type)\u001b[0m\n\u001b[1;32m    181\u001b[0m                     \u001b[0;34m\"PySoundFile failed. Trying audioread instead.\"\u001b[0m\u001b[0;34m,\u001b[0m \u001b[0mstacklevel\u001b[0m\u001b[0;34m=\u001b[0m\u001b[0;36m2\u001b[0m\u001b[0;34m\u001b[0m\u001b[0;34m\u001b[0m\u001b[0m\n\u001b[1;32m    182\u001b[0m                 )\n\u001b[0;32m--> 183\u001b[0;31m                 \u001b[0my\u001b[0m\u001b[0;34m,\u001b[0m \u001b[0msr_native\u001b[0m \u001b[0;34m=\u001b[0m \u001b[0m__audioread_load\u001b[0m\u001b[0;34m(\u001b[0m\u001b[0mpath\u001b[0m\u001b[0;34m,\u001b[0m \u001b[0moffset\u001b[0m\u001b[0;34m,\u001b[0m \u001b[0mduration\u001b[0m\u001b[0;34m,\u001b[0m \u001b[0mdtype\u001b[0m\u001b[0;34m)\u001b[0m\u001b[0;34m\u001b[0m\u001b[0;34m\u001b[0m\u001b[0m\n\u001b[0m\u001b[1;32m    184\u001b[0m             \u001b[0;32melse\u001b[0m\u001b[0;34m:\u001b[0m\u001b[0;34m\u001b[0m\u001b[0;34m\u001b[0m\u001b[0m\n\u001b[1;32m    185\u001b[0m                 \u001b[0;32mraise\u001b[0m \u001b[0mexc\u001b[0m\u001b[0;34m\u001b[0m\u001b[0;34m\u001b[0m\u001b[0m\n",
            "\u001b[0;32m<decorator-gen-119>\u001b[0m in \u001b[0;36m__audioread_load\u001b[0;34m(path, offset, duration, dtype)\u001b[0m\n",
            "\u001b[0;32m/usr/local/lib/python3.10/dist-packages/librosa/util/decorators.py\u001b[0m in \u001b[0;36m__wrapper\u001b[0;34m(func, *args, **kwargs)\u001b[0m\n\u001b[1;32m     57\u001b[0m             \u001b[0mstacklevel\u001b[0m\u001b[0;34m=\u001b[0m\u001b[0;36m3\u001b[0m\u001b[0;34m,\u001b[0m  \u001b[0;31m# Would be 2, but the decorator adds a level\u001b[0m\u001b[0;34m\u001b[0m\u001b[0;34m\u001b[0m\u001b[0m\n\u001b[1;32m     58\u001b[0m         )\n\u001b[0;32m---> 59\u001b[0;31m         \u001b[0;32mreturn\u001b[0m \u001b[0mfunc\u001b[0m\u001b[0;34m(\u001b[0m\u001b[0;34m*\u001b[0m\u001b[0margs\u001b[0m\u001b[0;34m,\u001b[0m \u001b[0;34m**\u001b[0m\u001b[0mkwargs\u001b[0m\u001b[0;34m)\u001b[0m\u001b[0;34m\u001b[0m\u001b[0;34m\u001b[0m\u001b[0m\n\u001b[0m\u001b[1;32m     60\u001b[0m \u001b[0;34m\u001b[0m\u001b[0m\n\u001b[1;32m     61\u001b[0m     \u001b[0;32mreturn\u001b[0m \u001b[0mdecorator\u001b[0m\u001b[0;34m(\u001b[0m\u001b[0m__wrapper\u001b[0m\u001b[0;34m)\u001b[0m\u001b[0;34m\u001b[0m\u001b[0;34m\u001b[0m\u001b[0m\n",
            "\u001b[0;32m/usr/local/lib/python3.10/dist-packages/librosa/core/audio.py\u001b[0m in \u001b[0;36m__audioread_load\u001b[0;34m(path, offset, duration, dtype)\u001b[0m\n\u001b[1;32m    237\u001b[0m     \u001b[0;32melse\u001b[0m\u001b[0;34m:\u001b[0m\u001b[0;34m\u001b[0m\u001b[0;34m\u001b[0m\u001b[0m\n\u001b[1;32m    238\u001b[0m         \u001b[0;31m# If the input was not an audioread object, try to open it\u001b[0m\u001b[0;34m\u001b[0m\u001b[0;34m\u001b[0m\u001b[0m\n\u001b[0;32m--> 239\u001b[0;31m         \u001b[0mreader\u001b[0m \u001b[0;34m=\u001b[0m \u001b[0maudioread\u001b[0m\u001b[0;34m.\u001b[0m\u001b[0maudio_open\u001b[0m\u001b[0;34m(\u001b[0m\u001b[0mpath\u001b[0m\u001b[0;34m)\u001b[0m\u001b[0;34m\u001b[0m\u001b[0;34m\u001b[0m\u001b[0m\n\u001b[0m\u001b[1;32m    240\u001b[0m \u001b[0;34m\u001b[0m\u001b[0m\n\u001b[1;32m    241\u001b[0m     \u001b[0;32mwith\u001b[0m \u001b[0mreader\u001b[0m \u001b[0;32mas\u001b[0m \u001b[0minput_file\u001b[0m\u001b[0;34m:\u001b[0m\u001b[0;34m\u001b[0m\u001b[0;34m\u001b[0m\u001b[0m\n",
            "\u001b[0;32m/usr/local/lib/python3.10/dist-packages/audioread/__init__.py\u001b[0m in \u001b[0;36maudio_open\u001b[0;34m(path, backends)\u001b[0m\n\u001b[1;32m    125\u001b[0m     \u001b[0;32mfor\u001b[0m \u001b[0mBackendClass\u001b[0m \u001b[0;32min\u001b[0m \u001b[0mbackends\u001b[0m\u001b[0;34m:\u001b[0m\u001b[0;34m\u001b[0m\u001b[0;34m\u001b[0m\u001b[0m\n\u001b[1;32m    126\u001b[0m         \u001b[0;32mtry\u001b[0m\u001b[0;34m:\u001b[0m\u001b[0;34m\u001b[0m\u001b[0;34m\u001b[0m\u001b[0m\n\u001b[0;32m--> 127\u001b[0;31m             \u001b[0;32mreturn\u001b[0m \u001b[0mBackendClass\u001b[0m\u001b[0;34m(\u001b[0m\u001b[0mpath\u001b[0m\u001b[0;34m)\u001b[0m\u001b[0;34m\u001b[0m\u001b[0;34m\u001b[0m\u001b[0m\n\u001b[0m\u001b[1;32m    128\u001b[0m         \u001b[0;32mexcept\u001b[0m \u001b[0mDecodeError\u001b[0m\u001b[0;34m:\u001b[0m\u001b[0;34m\u001b[0m\u001b[0;34m\u001b[0m\u001b[0m\n\u001b[1;32m    129\u001b[0m             \u001b[0;32mpass\u001b[0m\u001b[0;34m\u001b[0m\u001b[0;34m\u001b[0m\u001b[0m\n",
            "\u001b[0;32m/usr/local/lib/python3.10/dist-packages/audioread/rawread.py\u001b[0m in \u001b[0;36m__init__\u001b[0;34m(self, filename)\u001b[0m\n\u001b[1;32m     57\u001b[0m     \"\"\"\n\u001b[1;32m     58\u001b[0m     \u001b[0;32mdef\u001b[0m \u001b[0m__init__\u001b[0m\u001b[0;34m(\u001b[0m\u001b[0mself\u001b[0m\u001b[0;34m,\u001b[0m \u001b[0mfilename\u001b[0m\u001b[0;34m)\u001b[0m\u001b[0;34m:\u001b[0m\u001b[0;34m\u001b[0m\u001b[0;34m\u001b[0m\u001b[0m\n\u001b[0;32m---> 59\u001b[0;31m         \u001b[0mself\u001b[0m\u001b[0;34m.\u001b[0m\u001b[0m_fh\u001b[0m \u001b[0;34m=\u001b[0m \u001b[0mopen\u001b[0m\u001b[0;34m(\u001b[0m\u001b[0mfilename\u001b[0m\u001b[0;34m,\u001b[0m \u001b[0;34m'rb'\u001b[0m\u001b[0;34m)\u001b[0m\u001b[0;34m\u001b[0m\u001b[0;34m\u001b[0m\u001b[0m\n\u001b[0m\u001b[1;32m     60\u001b[0m \u001b[0;34m\u001b[0m\u001b[0m\n\u001b[1;32m     61\u001b[0m         \u001b[0;32mtry\u001b[0m\u001b[0;34m:\u001b[0m\u001b[0;34m\u001b[0m\u001b[0;34m\u001b[0m\u001b[0m\n",
            "\u001b[0;31mFileNotFoundError\u001b[0m: [Errno 2] No such file or directory: './audio/ACDC - Back In Black Intro.wav'"
          ]
        }
      ]
    },
    {
      "cell_type": "code",
      "source": [
        "print(\"Generate Model:\")\n",
        "#model = generate_model()     # Compile an neural net\n",
        "model = ConvNet()#.to('cpu')\n",
        "print(\"Def. loss function:\")\n",
        "loss_fn = nn.MSELoss(reduction='sum')\n",
        "#learning_rate = 1e-4\n",
        "optimizer = torch.optim.Adam(model.parameters())#, lr=learning_rate)"
      ],
      "metadata": {
        "id": "67aMI-tQBlhY"
      },
      "execution_count": null,
      "outputs": []
    },
    {
      "cell_type": "code",
      "source": [
        "for epoch in range(6000):\n",
        "    Ypred=model(X)\n",
        "    loss=loss_fn(Ypred, Y)\n",
        "    if epoch%100==0:\n",
        "        print(epoch, loss.item())\n",
        "    optimizer.zero_grad()\n",
        "    loss.backward()\n",
        "    optimizer.step()"
      ],
      "metadata": {
        "id": "_UY06MYYBm9_"
      },
      "execution_count": null,
      "outputs": []
    },
    {
      "cell_type": "code",
      "source": [
        "torch.save({'epoch': epoch,\n",
        "       'model_state_dict': model.state_dict(),\n",
        "       'optimizer_state_dict': optimizer.state_dict()}, \"linpredweights.torch\")"
      ],
      "metadata": {
        "id": "MrlXTUMQBrD5"
      },
      "execution_count": null,
      "outputs": []
    },
    {
      "cell_type": "code",
      "source": [
        "#Processing full length signal:\n",
        "X=format_vector2pytorch(audio[:-((L-1)*dilation+1)])  #remove last samples\n",
        "Y=format_vector2pytorch(audio[1:]) #remove first sample\n",
        "predictions=model(X) # Make Predictions based on the obtained weights, on short audio\n",
        "#mean squared predicton error:\n",
        "err= sum((predictions[0,0,:]-Y[0,0,:])**2)/max(Y.shape)\n",
        "print(\"mean squared prediction error=\", err)\n",
        "#mean signal power:\n",
        "sigpow=sum(X[0,0,:]**2)/max(X.shape)\n",
        "print(\"mean signal power=\", sigpow)\n",
        "print(\"Signal to Error Power Ratio:\", sigpow/err)\n",
        "\n",
        "ww = model.state_dict()   #read obtained weights\n",
        "print(\"ww=\", ww)\n",
        "#weight format for Conv1d:\n",
        "#[0: filter weights, 1: bias for first layer]\n",
        "#weight: filters of shape: out_channels× in_channelsgroups× kW\n",
        "weights=ww['layer1.0.weight'][0,0,:]\n",
        "\n",
        "\n",
        "print(\"weights= \", weights)\n",
        "#print(\"Predictions[0,0,:]= \", predictions[0,0,:])"
      ],
      "metadata": {
        "id": "9A6nlSCgBrK6"
      },
      "execution_count": null,
      "outputs": []
    },
    {
      "cell_type": "code",
      "source": [
        "\n",
        "#print(\"Y=\",Y)\n",
        "#convert to numpy:\n",
        "#https://discuss.pytorch.org/t/how-to-transform-variable-into-numpy/104/2\n",
        "#plt.plot(np.array(Y[0,0,:]))\n",
        "#plt.show()\n",
        "plt.figure()\n",
        "plt.plot(np.array(Y[0,0,:]))\n",
        "plt.plot(predictions.detach().numpy()[0,0,:])\n",
        "plt.legend(('Original','Predicted'))\n",
        "plt.title('The Original and Predicted Signal')\n",
        "plt.xlabel('Sample')\n",
        "plt.grid()\n",
        "plt.figure()\n",
        "plt.plot(np.array(Y[0,0,:]))\n",
        "plt.plot(predictions.detach().numpy()[0,0,:]-np.array(Y[0,0,:]))\n",
        "plt.legend(('Original','Prediction Error'))\n",
        "plt.title('The Original and Prediction Error')\n",
        "plt.xlabel('Sample')\n",
        "plt.grid()\n",
        "plt.figure()\n",
        "plt.plot(np.array(weights))\n",
        "plt.title('The Weights')\n",
        "plt.grid()"
      ],
      "metadata": {
        "id": "jVdB_m3PBzow"
      },
      "execution_count": null,
      "outputs": []
    }
  ]
}