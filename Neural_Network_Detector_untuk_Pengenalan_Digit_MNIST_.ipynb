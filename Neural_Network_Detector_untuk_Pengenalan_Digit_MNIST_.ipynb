{
  "nbformat": 4,
  "nbformat_minor": 0,
  "metadata": {
    "colab": {
      "provenance": []
    },
    "kernelspec": {
      "name": "python3",
      "display_name": "Python 3"
    },
    "language_info": {
      "name": "python"
    }
  },
  "cells": [
    {
      "cell_type": "markdown",
      "source": [
        "Di bagian 3, kita melihat bagaimana menggunakan jaringan klasifikasi untuk pengenalan digit MNIST. Biasanya kita mengasumsikan bahwa input adalah sebuah digit, sehingga kita dapat menormalkan output kelas jaringan sehingga mereka mewakili distribusi probabilitas yang jumlahnya menjadi satu. Namun seringkali dalam aplikasi kita ingin mengenali pola atau objek, tetapi tidak tahu apakah mereka ada dalam input. Sebagai contoh, kita bisa memiliki pengenal digit live, yang mengambil kamera sebagai input. Dalam kasus ini, kadang-kadang kita meletakkan kertas, misalnya sebuah surat dengan kode pos, di depan kamera, dan kadang-kadang tidak, yang seharusnya tidak membingungkan pengenal.\n",
        "\n",
        "Dalam kasus seperti itu, masuk akal untuk menggunakan detektor, seperti yang kita lihat di bagian 1, untuk pengenalan. Ini memiliki keuntungan bahwa kita dapat melatih pengenal dari setiap kelas digit untuk mengeluarkan \"1\" (atau nilai yang mendekati) ketika ia mengenali digitnya, atau \"0\" (atau nilai yang mendekati) ketika ia tidak mengenali digitnya. Jika tidak ada digit yang hadir, semua detektor akan mengeluarkan nilai mendekati 0, yang merupakan sesuatu yang tidak dapat dilakukan oleh klasifikasi.\n",
        "\n",
        "Untuk itu, kita menggunakan struktur jaringan saraf yang sama seperti di bagian 3 untuk klasifikasi MNIST, tetapi dengan fungsi Loss yang berbeda. Alih-alih CrossEntropyLoss(), kita menggunakan MSELoss(). Tetapi MSELoss membutuhkan representasi target yang berbeda.\n",
        "\n",
        "Untuk CrossEntropyLoss, kita membutuhkan label kelas (angka) sebagai target, yang berarti kita memiliki satu digit input integer (atau float). MSELoss membutuhkan angka float untuk setiap kelas, yang berarti 10 angka float untuk setiap digit input, di mana kelas yang benar harus memiliki \"1\", dan semua kelas lain harus memiliki \"0\".\n",
        "\n",
        "Karena data set MNIST dibuat untuk klasifikasi, kita perlu mengonversi targetnya ke kelas-kelas. Kita dapat melakukannya dengan menginisialisasi sebuah array torch dengan nol, dan kemudian mengaturnya menjadi \"1\" di kelas-kelas \"benar\" yang sesuai. Ini juga disebut representasi \"one-hot\"."
      ],
      "metadata": {
        "id": "Eb8sx9s1fQq8"
      }
    },
    {
      "cell_type": "code",
      "execution_count": null,
      "metadata": {
        "id": "CvI93bPQ-Mo-"
      },
      "outputs": [],
      "source": [
        "#from: https://machinelearningmastery.com/handwritten-digit-recognition-using-convolutional-neural-networks-python-keras/\n",
        "#https://pytorch.org/docs/stable/torchvision/datasets.html#mnist\n",
        "#Translated to PyTorch and modified to a simple fully connected network,\n",
        "#by Gerald Schuller, October 2019\n",
        "\n",
        "# Ported and modified to Jupyter Notebook by Renato Profeta, August 2020\n",
        "\n",
        "import numpy\n",
        "import matplotlib.pyplot as plt\n",
        "import torch\n",
        "import torchvision\n",
        "import torch.nn.functional as F\n",
        "import torch.nn as nn\n",
        "import time\n",
        "\n",
        "device='cpu'\n",
        "#device='cuda'"
      ]
    },
    {
      "cell_type": "code",
      "source": [
        "# define the neural network model\n",
        "class DenseNet(nn.Module):\n",
        "    def __init__(self):\n",
        "        super(DenseNet, self).__init__()\n",
        "        self.layer1=nn.Sequential(nn.Linear(in_features=num_pixels, out_features=num_pixels))\n",
        "        self.layer2=nn.Sequential(nn.Linear(in_features=num_pixels, out_features=num_classes))\n",
        "\n",
        "\n",
        "    def forward(self, x):\n",
        "        x = F.relu(self.layer1(x))  #First layer with activation function\n",
        "        x = self.layer2(x)   #Second layer\n",
        "        #x = torch.nn.Softmax(x)\n",
        "        return x"
      ],
      "metadata": {
        "id": "9khye1eZ-wPP"
      },
      "execution_count": null,
      "outputs": []
    },
    {
      "cell_type": "code",
      "source": [
        "batch_size_train = 100\n",
        "batch_size_test = 10\n",
        "num_classes = 10  #10 classes according to the 10 possible digits 0,...,9\n",
        "\n",
        "train_loader = torch.utils.data.DataLoader(\n",
        "    torchvision.datasets.MNIST('~/Downloads/MNISTfiles/',\n",
        "    train=True, download=True,\n",
        "    transform=torchvision.transforms.Compose([\n",
        "    torchvision.transforms.ToTensor(),\n",
        "    torchvision.transforms.Normalize((0.1307,), (0.3081,))])),\n",
        "    batch_size=batch_size_train, shuffle=True)\n",
        "#the Normalize() arguments are mean and standard deviation.\n",
        "\n",
        "test_loader = torch.utils.data.DataLoader(\n",
        "    torchvision.datasets.MNIST('~/Downloads/MNISTfiles/',\n",
        "    train=False, download=True,\n",
        "    transform=torchvision.transforms.Compose([\n",
        "    torchvision.transforms.ToTensor(),\n",
        "    torchvision.transforms.Normalize((0.1307,), (0.3081,))])),\n",
        "    batch_size=batch_size_test, shuffle=True)"
      ],
      "metadata": {
        "id": "P6X3eMat-yiA",
        "outputId": "04590661-f4e8-4b8b-e03f-3eac46a2dc02",
        "colab": {
          "base_uri": "https://localhost:8080/"
        }
      },
      "execution_count": null,
      "outputs": [
        {
          "output_type": "stream",
          "name": "stdout",
          "text": [
            "Downloading http://yann.lecun.com/exdb/mnist/train-images-idx3-ubyte.gz\n",
            "Downloading http://yann.lecun.com/exdb/mnist/train-images-idx3-ubyte.gz to /root/Downloads/MNISTfiles/MNIST/raw/train-images-idx3-ubyte.gz\n"
          ]
        },
        {
          "output_type": "stream",
          "name": "stderr",
          "text": [
            "100%|██████████| 9912422/9912422 [00:00<00:00, 153802401.03it/s]\n"
          ]
        },
        {
          "output_type": "stream",
          "name": "stdout",
          "text": [
            "Extracting /root/Downloads/MNISTfiles/MNIST/raw/train-images-idx3-ubyte.gz to /root/Downloads/MNISTfiles/MNIST/raw\n",
            "\n",
            "Downloading http://yann.lecun.com/exdb/mnist/train-labels-idx1-ubyte.gz\n",
            "Downloading http://yann.lecun.com/exdb/mnist/train-labels-idx1-ubyte.gz to /root/Downloads/MNISTfiles/MNIST/raw/train-labels-idx1-ubyte.gz\n"
          ]
        },
        {
          "output_type": "stream",
          "name": "stderr",
          "text": [
            "100%|██████████| 28881/28881 [00:00<00:00, 74821305.64it/s]\n"
          ]
        },
        {
          "output_type": "stream",
          "name": "stdout",
          "text": [
            "Extracting /root/Downloads/MNISTfiles/MNIST/raw/train-labels-idx1-ubyte.gz to /root/Downloads/MNISTfiles/MNIST/raw\n",
            "\n",
            "Downloading http://yann.lecun.com/exdb/mnist/t10k-images-idx3-ubyte.gz\n",
            "Downloading http://yann.lecun.com/exdb/mnist/t10k-images-idx3-ubyte.gz to /root/Downloads/MNISTfiles/MNIST/raw/t10k-images-idx3-ubyte.gz\n"
          ]
        },
        {
          "output_type": "stream",
          "name": "stderr",
          "text": [
            "100%|██████████| 1648877/1648877 [00:00<00:00, 104759249.84it/s]"
          ]
        },
        {
          "output_type": "stream",
          "name": "stdout",
          "text": [
            "Extracting /root/Downloads/MNISTfiles/MNIST/raw/t10k-images-idx3-ubyte.gz to /root/Downloads/MNISTfiles/MNIST/raw\n"
          ]
        },
        {
          "output_type": "stream",
          "name": "stderr",
          "text": [
            "\n"
          ]
        },
        {
          "output_type": "stream",
          "name": "stdout",
          "text": [
            "\n",
            "Downloading http://yann.lecun.com/exdb/mnist/t10k-labels-idx1-ubyte.gz\n",
            "Downloading http://yann.lecun.com/exdb/mnist/t10k-labels-idx1-ubyte.gz to /root/Downloads/MNISTfiles/MNIST/raw/t10k-labels-idx1-ubyte.gz\n"
          ]
        },
        {
          "output_type": "stream",
          "name": "stderr",
          "text": [
            "100%|██████████| 4542/4542 [00:00<00:00, 16873807.59it/s]"
          ]
        },
        {
          "output_type": "stream",
          "name": "stdout",
          "text": [
            "Extracting /root/Downloads/MNISTfiles/MNIST/raw/t10k-labels-idx1-ubyte.gz to /root/Downloads/MNISTfiles/MNIST/raw\n",
            "\n"
          ]
        },
        {
          "output_type": "stream",
          "name": "stderr",
          "text": [
            "\n"
          ]
        }
      ]
    },
    {
      "cell_type": "code",
      "source": [
        "examples = enumerate(train_loader)\n",
        "# Plot ad hoc mnist instances\n",
        "\n",
        "# load (downloaded if needed) the MNIST dataset\n",
        "#(X_train, y_train), (X_test, y_test) = mnist.load_data()\n",
        "#one trainig batch of 100 images:\n",
        "batch_idx, (X_train, y_train) = next(examples)\n",
        "print( \"X_train.type()=\",X_train.type(), \"y_train.type()=\",y_train.type())\n",
        "print(\"batch_idx=\", batch_idx, \"X_train.shape=\", X_train.shape, \"y_train.shape=\", y_train.shape, \"y_train=\", y_train)\n",
        "\n",
        "#Make classes with one-hot encoding from the target classes:\n",
        "#y_train_onehot=torch.zeros(batch_size_train,num_classes)\n",
        "#for spl in range(batch_size_train):\n",
        "    #y_train_onehot[spl, y_train[spl]]=1.0\n",
        "y_train_onehot=torch.nn.functional.one_hot(y_train).type(torch.FloatTensor)\n",
        "print(\"y_train_onehot=\", y_train_onehot)"
      ],
      "metadata": {
        "id": "MFJjSZ9q-03j",
        "outputId": "fc51d8c9-88e2-44a5-fddc-cd7a7749422e",
        "colab": {
          "base_uri": "https://localhost:8080/"
        }
      },
      "execution_count": null,
      "outputs": [
        {
          "output_type": "stream",
          "name": "stdout",
          "text": [
            "X_train.type()= torch.FloatTensor y_train.type()= torch.LongTensor\n",
            "batch_idx= 0 X_train.shape= torch.Size([100, 1, 28, 28]) y_train.shape= torch.Size([100]) y_train= tensor([3, 1, 8, 2, 2, 5, 7, 6, 9, 5, 1, 0, 9, 4, 5, 9, 0, 3, 5, 9, 8, 4, 3, 5,\n",
            "        4, 6, 2, 8, 2, 0, 4, 6, 9, 8, 0, 3, 8, 5, 4, 4, 2, 2, 7, 6, 7, 0, 3, 8,\n",
            "        8, 8, 8, 1, 4, 5, 7, 5, 8, 6, 9, 0, 7, 4, 6, 2, 3, 1, 6, 7, 2, 7, 5, 5,\n",
            "        3, 3, 7, 9, 6, 9, 3, 4, 4, 9, 5, 0, 1, 2, 8, 6, 1, 8, 9, 3, 3, 4, 7, 8,\n",
            "        8, 4, 6, 0])\n",
            "y_train_onehot= tensor([[0., 0., 0., 1., 0., 0., 0., 0., 0., 0.],\n",
            "        [0., 1., 0., 0., 0., 0., 0., 0., 0., 0.],\n",
            "        [0., 0., 0., 0., 0., 0., 0., 0., 1., 0.],\n",
            "        [0., 0., 1., 0., 0., 0., 0., 0., 0., 0.],\n",
            "        [0., 0., 1., 0., 0., 0., 0., 0., 0., 0.],\n",
            "        [0., 0., 0., 0., 0., 1., 0., 0., 0., 0.],\n",
            "        [0., 0., 0., 0., 0., 0., 0., 1., 0., 0.],\n",
            "        [0., 0., 0., 0., 0., 0., 1., 0., 0., 0.],\n",
            "        [0., 0., 0., 0., 0., 0., 0., 0., 0., 1.],\n",
            "        [0., 0., 0., 0., 0., 1., 0., 0., 0., 0.],\n",
            "        [0., 1., 0., 0., 0., 0., 0., 0., 0., 0.],\n",
            "        [1., 0., 0., 0., 0., 0., 0., 0., 0., 0.],\n",
            "        [0., 0., 0., 0., 0., 0., 0., 0., 0., 1.],\n",
            "        [0., 0., 0., 0., 1., 0., 0., 0., 0., 0.],\n",
            "        [0., 0., 0., 0., 0., 1., 0., 0., 0., 0.],\n",
            "        [0., 0., 0., 0., 0., 0., 0., 0., 0., 1.],\n",
            "        [1., 0., 0., 0., 0., 0., 0., 0., 0., 0.],\n",
            "        [0., 0., 0., 1., 0., 0., 0., 0., 0., 0.],\n",
            "        [0., 0., 0., 0., 0., 1., 0., 0., 0., 0.],\n",
            "        [0., 0., 0., 0., 0., 0., 0., 0., 0., 1.],\n",
            "        [0., 0., 0., 0., 0., 0., 0., 0., 1., 0.],\n",
            "        [0., 0., 0., 0., 1., 0., 0., 0., 0., 0.],\n",
            "        [0., 0., 0., 1., 0., 0., 0., 0., 0., 0.],\n",
            "        [0., 0., 0., 0., 0., 1., 0., 0., 0., 0.],\n",
            "        [0., 0., 0., 0., 1., 0., 0., 0., 0., 0.],\n",
            "        [0., 0., 0., 0., 0., 0., 1., 0., 0., 0.],\n",
            "        [0., 0., 1., 0., 0., 0., 0., 0., 0., 0.],\n",
            "        [0., 0., 0., 0., 0., 0., 0., 0., 1., 0.],\n",
            "        [0., 0., 1., 0., 0., 0., 0., 0., 0., 0.],\n",
            "        [1., 0., 0., 0., 0., 0., 0., 0., 0., 0.],\n",
            "        [0., 0., 0., 0., 1., 0., 0., 0., 0., 0.],\n",
            "        [0., 0., 0., 0., 0., 0., 1., 0., 0., 0.],\n",
            "        [0., 0., 0., 0., 0., 0., 0., 0., 0., 1.],\n",
            "        [0., 0., 0., 0., 0., 0., 0., 0., 1., 0.],\n",
            "        [1., 0., 0., 0., 0., 0., 0., 0., 0., 0.],\n",
            "        [0., 0., 0., 1., 0., 0., 0., 0., 0., 0.],\n",
            "        [0., 0., 0., 0., 0., 0., 0., 0., 1., 0.],\n",
            "        [0., 0., 0., 0., 0., 1., 0., 0., 0., 0.],\n",
            "        [0., 0., 0., 0., 1., 0., 0., 0., 0., 0.],\n",
            "        [0., 0., 0., 0., 1., 0., 0., 0., 0., 0.],\n",
            "        [0., 0., 1., 0., 0., 0., 0., 0., 0., 0.],\n",
            "        [0., 0., 1., 0., 0., 0., 0., 0., 0., 0.],\n",
            "        [0., 0., 0., 0., 0., 0., 0., 1., 0., 0.],\n",
            "        [0., 0., 0., 0., 0., 0., 1., 0., 0., 0.],\n",
            "        [0., 0., 0., 0., 0., 0., 0., 1., 0., 0.],\n",
            "        [1., 0., 0., 0., 0., 0., 0., 0., 0., 0.],\n",
            "        [0., 0., 0., 1., 0., 0., 0., 0., 0., 0.],\n",
            "        [0., 0., 0., 0., 0., 0., 0., 0., 1., 0.],\n",
            "        [0., 0., 0., 0., 0., 0., 0., 0., 1., 0.],\n",
            "        [0., 0., 0., 0., 0., 0., 0., 0., 1., 0.],\n",
            "        [0., 0., 0., 0., 0., 0., 0., 0., 1., 0.],\n",
            "        [0., 1., 0., 0., 0., 0., 0., 0., 0., 0.],\n",
            "        [0., 0., 0., 0., 1., 0., 0., 0., 0., 0.],\n",
            "        [0., 0., 0., 0., 0., 1., 0., 0., 0., 0.],\n",
            "        [0., 0., 0., 0., 0., 0., 0., 1., 0., 0.],\n",
            "        [0., 0., 0., 0., 0., 1., 0., 0., 0., 0.],\n",
            "        [0., 0., 0., 0., 0., 0., 0., 0., 1., 0.],\n",
            "        [0., 0., 0., 0., 0., 0., 1., 0., 0., 0.],\n",
            "        [0., 0., 0., 0., 0., 0., 0., 0., 0., 1.],\n",
            "        [1., 0., 0., 0., 0., 0., 0., 0., 0., 0.],\n",
            "        [0., 0., 0., 0., 0., 0., 0., 1., 0., 0.],\n",
            "        [0., 0., 0., 0., 1., 0., 0., 0., 0., 0.],\n",
            "        [0., 0., 0., 0., 0., 0., 1., 0., 0., 0.],\n",
            "        [0., 0., 1., 0., 0., 0., 0., 0., 0., 0.],\n",
            "        [0., 0., 0., 1., 0., 0., 0., 0., 0., 0.],\n",
            "        [0., 1., 0., 0., 0., 0., 0., 0., 0., 0.],\n",
            "        [0., 0., 0., 0., 0., 0., 1., 0., 0., 0.],\n",
            "        [0., 0., 0., 0., 0., 0., 0., 1., 0., 0.],\n",
            "        [0., 0., 1., 0., 0., 0., 0., 0., 0., 0.],\n",
            "        [0., 0., 0., 0., 0., 0., 0., 1., 0., 0.],\n",
            "        [0., 0., 0., 0., 0., 1., 0., 0., 0., 0.],\n",
            "        [0., 0., 0., 0., 0., 1., 0., 0., 0., 0.],\n",
            "        [0., 0., 0., 1., 0., 0., 0., 0., 0., 0.],\n",
            "        [0., 0., 0., 1., 0., 0., 0., 0., 0., 0.],\n",
            "        [0., 0., 0., 0., 0., 0., 0., 1., 0., 0.],\n",
            "        [0., 0., 0., 0., 0., 0., 0., 0., 0., 1.],\n",
            "        [0., 0., 0., 0., 0., 0., 1., 0., 0., 0.],\n",
            "        [0., 0., 0., 0., 0., 0., 0., 0., 0., 1.],\n",
            "        [0., 0., 0., 1., 0., 0., 0., 0., 0., 0.],\n",
            "        [0., 0., 0., 0., 1., 0., 0., 0., 0., 0.],\n",
            "        [0., 0., 0., 0., 1., 0., 0., 0., 0., 0.],\n",
            "        [0., 0., 0., 0., 0., 0., 0., 0., 0., 1.],\n",
            "        [0., 0., 0., 0., 0., 1., 0., 0., 0., 0.],\n",
            "        [1., 0., 0., 0., 0., 0., 0., 0., 0., 0.],\n",
            "        [0., 1., 0., 0., 0., 0., 0., 0., 0., 0.],\n",
            "        [0., 0., 1., 0., 0., 0., 0., 0., 0., 0.],\n",
            "        [0., 0., 0., 0., 0., 0., 0., 0., 1., 0.],\n",
            "        [0., 0., 0., 0., 0., 0., 1., 0., 0., 0.],\n",
            "        [0., 1., 0., 0., 0., 0., 0., 0., 0., 0.],\n",
            "        [0., 0., 0., 0., 0., 0., 0., 0., 1., 0.],\n",
            "        [0., 0., 0., 0., 0., 0., 0., 0., 0., 1.],\n",
            "        [0., 0., 0., 1., 0., 0., 0., 0., 0., 0.],\n",
            "        [0., 0., 0., 1., 0., 0., 0., 0., 0., 0.],\n",
            "        [0., 0., 0., 0., 1., 0., 0., 0., 0., 0.],\n",
            "        [0., 0., 0., 0., 0., 0., 0., 1., 0., 0.],\n",
            "        [0., 0., 0., 0., 0., 0., 0., 0., 1., 0.],\n",
            "        [0., 0., 0., 0., 0., 0., 0., 0., 1., 0.],\n",
            "        [0., 0., 0., 0., 1., 0., 0., 0., 0., 0.],\n",
            "        [0., 0., 0., 0., 0., 0., 1., 0., 0., 0.],\n",
            "        [1., 0., 0., 0., 0., 0., 0., 0., 0., 0.]])\n"
          ]
        }
      ]
    },
    {
      "cell_type": "code",
      "source": [
        "examples = enumerate(test_loader)\n",
        "#one test batch of batch_size_test images:\n",
        "batch_idx, (X_test, y_test) = next(examples)\n",
        "#Make classes with one-hot encoding from the target classes:\n",
        "y_test_onehot=torch.zeros(batch_size_test,num_classes)\n",
        "for spl in range(batch_size_test):\n",
        "    y_test_onehot[spl, y_test[spl]]=1.0\n",
        "\n",
        "# plot 4 images as gray scale\n",
        "plt.figure(figsize=(10,8))\n",
        "plt.subplot(221)\n",
        "plt.title(\"Some Images of the Trainigs Set\")\n",
        "plt.imshow(X_train[0,0], cmap=plt.get_cmap('gray'))\n",
        "plt.subplot(222)\n",
        "plt.imshow(X_train[1,0], cmap=plt.get_cmap('gray'))\n",
        "plt.subplot(223)\n",
        "plt.imshow(X_train[2,0], cmap=plt.get_cmap('gray'))\n",
        "plt.subplot(224)\n",
        "plt.imshow(X_train[3,0], cmap=plt.get_cmap('gray'))\n",
        "# show the plot\n",
        "plt.show()"
      ],
      "metadata": {
        "id": "pnjq-vtU-2uX",
        "outputId": "d8471162-a533-437a-dc95-651ae1a1b141",
        "colab": {
          "base_uri": "https://localhost:8080/",
          "height": 589
        }
      },
      "execution_count": null,
      "outputs": [
        {
          "output_type": "display_data",
          "data": {
            "text/plain": [
              "<Figure size 1000x800 with 4 Axes>"
            ],
            "image/png": "[encoded data removed]"
          },
          "metadata": {}
        }
      ]
    },
    {
      "cell_type": "code",
      "source": [
        "X_testunflat=X_test.clone() #keep original for imshow later\n",
        "# flatten 28*28 images to a 784 vector for each image\n",
        "num_pixels = X_train.shape[2] * X_train.shape[3]\n",
        "\n",
        "\n",
        "#Flatten the images:\n",
        "X_train = X_train.view(X_train.shape[0], num_pixels)\n",
        "print(\"X_train.shape=\",X_train.shape)\n",
        "X_test = X_test.reshape(X_test.shape[0], num_pixels)\n",
        "print(\"X_test.shape=\",X_test.shape)\n",
        "\n",
        "# normalize inputs from 0-255 to 0-1\n",
        "#X_train = X_train / 255\n",
        "#X_test = X_test / 255\n",
        "\n",
        "# one hot encode outputs\n",
        "#y_train = np_utils.to_categorical(y_train)\n",
        "#y_test = np_utils.to_categorical(y_test)"
      ],
      "metadata": {
        "id": "6JE9-v11-458",
        "outputId": "f12bee5a-df5c-4103-c1bd-21eae823f8bf",
        "colab": {
          "base_uri": "https://localhost:8080/"
        }
      },
      "execution_count": null,
      "outputs": [
        {
          "output_type": "stream",
          "name": "stdout",
          "text": [
            "X_train.shape= torch.Size([100, 784])\n",
            "X_test.shape= torch.Size([10, 784])\n"
          ]
        }
      ]
    }
  ]
}